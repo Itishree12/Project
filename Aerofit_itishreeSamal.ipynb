{
 "cells": [
  {
   "cell_type": "markdown",
   "id": "64c31fc1",
   "metadata": {},
   "source": [
    "# Business Case: A - Descriptive Statistics & Probability"
   ]
  },
  {
   "cell_type": "markdown",
   "id": "af9e4ebe",
   "metadata": {},
   "source": [
    "### Defining Problem Statement "
   ]
  },
  {
   "cell_type": "markdown",
   "id": "93b67397",
   "metadata": {},
   "source": [
    "#### Business Problem\n",
    "* The market research team at AeroFit wants to identify the characteristics of the target audience for each type of treadmill offered by the company, to provide a better recommendation of the treadmills to the new customers. The team decides to investigate whether there are differences across the product with respect to customer characteristics.\n",
    "1. Perform descriptive analytics to create a customer profile for each AeroFit treadmill product by developing appropriate tables and charts.\n",
    "2. For each AeroFit treadmill product, construct two-way contingency tables and compute all conditional and marginal probabilities along with their insights/impact on the business."
   ]
  },
  {
   "cell_type": "markdown",
   "id": "b0c265c4",
   "metadata": {},
   "source": [
    "#### DataLink: https://d2beiqkhq929f0.cloudfront.net/public_assets/assets/000/001/125/original/aerofit_treadmill.csv"
   ]
  },
  {
   "cell_type": "markdown",
   "id": "64f6dc0e",
   "metadata": {},
   "source": [
    "#### Aerofit Dataset contains following attribute"
   ]
  },
  {
   "cell_type": "markdown",
   "id": "dbd13aa0",
   "metadata": {},
   "source": [
    "* Product: Product Purchased KP281, KP481, or KP781\n",
    "* Age: In years\n",
    "* Gender: Male/Female\n",
    "* Education: in years\n",
    "* MaritalStatus: single or partnered\n",
    "* Usage: average number of times the customer plans to use the treadmill each week\n",
    "* Income: annual income (in $) \n",
    "* Fitness: self-rated fitness on a 1-to-5 scale, where 1 is the poor shape and 5 is the\n",
    "excellent shape.\n",
    "* Miles: average number of miles the customer expects to walk/run each week"
   ]
  },
  {
   "cell_type": "markdown",
   "id": "5b7d2a93",
   "metadata": {},
   "source": [
    "#### Product Portfolio:\n",
    "* The KP281 is an entry-level treadmill that sells for 1,500  dollar.\n",
    "* The KP481 is for mid-level runners that sell for 1,750  dollar.\n",
    "* The KP781 treadmill has advanced features that sell for 2,500 dollar."
   ]
  },
  {
   "cell_type": "markdown",
   "id": "63965495",
   "metadata": {},
   "source": [
    "#### Import the dataset and do usual data analysis steps like checking the structure & characteristics of the dataset"
   ]
  },
  {
   "cell_type": "code",
   "execution_count": 3,
   "id": "149d15b8",
   "metadata": {},
   "outputs": [],
   "source": [
    "# loading the libraries\n",
    "import numpy as np\n",
    "import pandas as pd\n",
    "import matplotlib.pyplot as plt\n",
    "import seaborn as sns"
   ]
  },
  {
   "cell_type": "code",
   "execution_count": 4,
   "id": "2e145e80",
   "metadata": {},
   "outputs": [],
   "source": [
    "#loading the data frame\n",
    "aerofit = pd.read_csv(r'https://d2beiqkhq929f0.cloudfront.net/public_assets/assets/000/001/125/original/aerofit_treadmill.csv')"
   ]
  },
  {
   "cell_type": "code",
   "execution_count": 5,
   "id": "ecc88e65",
   "metadata": {},
   "outputs": [
    {
     "data": {
      "text/html": [
       "<div>\n",
       "<style scoped>\n",
       "    .dataframe tbody tr th:only-of-type {\n",
       "        vertical-align: middle;\n",
       "    }\n",
       "\n",
       "    .dataframe tbody tr th {\n",
       "        vertical-align: top;\n",
       "    }\n",
       "\n",
       "    .dataframe thead th {\n",
       "        text-align: right;\n",
       "    }\n",
       "</style>\n",
       "<table border=\"1\" class=\"dataframe\">\n",
       "  <thead>\n",
       "    <tr style=\"text-align: right;\">\n",
       "      <th></th>\n",
       "      <th>Product</th>\n",
       "      <th>Age</th>\n",
       "      <th>Gender</th>\n",
       "      <th>Education</th>\n",
       "      <th>MaritalStatus</th>\n",
       "      <th>Usage</th>\n",
       "      <th>Fitness</th>\n",
       "      <th>Income</th>\n",
       "      <th>Miles</th>\n",
       "    </tr>\n",
       "  </thead>\n",
       "  <tbody>\n",
       "    <tr>\n",
       "      <th>0</th>\n",
       "      <td>KP281</td>\n",
       "      <td>18</td>\n",
       "      <td>Male</td>\n",
       "      <td>14</td>\n",
       "      <td>Single</td>\n",
       "      <td>3</td>\n",
       "      <td>4</td>\n",
       "      <td>29562</td>\n",
       "      <td>112</td>\n",
       "    </tr>\n",
       "    <tr>\n",
       "      <th>1</th>\n",
       "      <td>KP281</td>\n",
       "      <td>19</td>\n",
       "      <td>Male</td>\n",
       "      <td>15</td>\n",
       "      <td>Single</td>\n",
       "      <td>2</td>\n",
       "      <td>3</td>\n",
       "      <td>31836</td>\n",
       "      <td>75</td>\n",
       "    </tr>\n",
       "    <tr>\n",
       "      <th>2</th>\n",
       "      <td>KP281</td>\n",
       "      <td>19</td>\n",
       "      <td>Female</td>\n",
       "      <td>14</td>\n",
       "      <td>Partnered</td>\n",
       "      <td>4</td>\n",
       "      <td>3</td>\n",
       "      <td>30699</td>\n",
       "      <td>66</td>\n",
       "    </tr>\n",
       "    <tr>\n",
       "      <th>3</th>\n",
       "      <td>KP281</td>\n",
       "      <td>19</td>\n",
       "      <td>Male</td>\n",
       "      <td>12</td>\n",
       "      <td>Single</td>\n",
       "      <td>3</td>\n",
       "      <td>3</td>\n",
       "      <td>32973</td>\n",
       "      <td>85</td>\n",
       "    </tr>\n",
       "    <tr>\n",
       "      <th>4</th>\n",
       "      <td>KP281</td>\n",
       "      <td>20</td>\n",
       "      <td>Male</td>\n",
       "      <td>13</td>\n",
       "      <td>Partnered</td>\n",
       "      <td>4</td>\n",
       "      <td>2</td>\n",
       "      <td>35247</td>\n",
       "      <td>47</td>\n",
       "    </tr>\n",
       "  </tbody>\n",
       "</table>\n",
       "</div>"
      ],
      "text/plain": [
       "  Product  Age  Gender  Education MaritalStatus  Usage  Fitness  Income  Miles\n",
       "0   KP281   18    Male         14        Single      3        4   29562    112\n",
       "1   KP281   19    Male         15        Single      2        3   31836     75\n",
       "2   KP281   19  Female         14     Partnered      4        3   30699     66\n",
       "3   KP281   19    Male         12        Single      3        3   32973     85\n",
       "4   KP281   20    Male         13     Partnered      4        2   35247     47"
      ]
     },
     "execution_count": 5,
     "metadata": {},
     "output_type": "execute_result"
    }
   ],
   "source": [
    "# checking the loaded dataframe with first few rows\n",
    "aerofit.head() "
   ]
  },
  {
   "cell_type": "code",
   "execution_count": 6,
   "id": "4053ad66",
   "metadata": {},
   "outputs": [
    {
     "data": {
      "text/html": [
       "<div>\n",
       "<style scoped>\n",
       "    .dataframe tbody tr th:only-of-type {\n",
       "        vertical-align: middle;\n",
       "    }\n",
       "\n",
       "    .dataframe tbody tr th {\n",
       "        vertical-align: top;\n",
       "    }\n",
       "\n",
       "    .dataframe thead th {\n",
       "        text-align: right;\n",
       "    }\n",
       "</style>\n",
       "<table border=\"1\" class=\"dataframe\">\n",
       "  <thead>\n",
       "    <tr style=\"text-align: right;\">\n",
       "      <th></th>\n",
       "      <th>Product</th>\n",
       "      <th>Age</th>\n",
       "      <th>Gender</th>\n",
       "      <th>Education</th>\n",
       "      <th>MaritalStatus</th>\n",
       "      <th>Usage</th>\n",
       "      <th>Fitness</th>\n",
       "      <th>Income</th>\n",
       "      <th>Miles</th>\n",
       "    </tr>\n",
       "  </thead>\n",
       "  <tbody>\n",
       "    <tr>\n",
       "      <th>175</th>\n",
       "      <td>KP781</td>\n",
       "      <td>40</td>\n",
       "      <td>Male</td>\n",
       "      <td>21</td>\n",
       "      <td>Single</td>\n",
       "      <td>6</td>\n",
       "      <td>5</td>\n",
       "      <td>83416</td>\n",
       "      <td>200</td>\n",
       "    </tr>\n",
       "    <tr>\n",
       "      <th>176</th>\n",
       "      <td>KP781</td>\n",
       "      <td>42</td>\n",
       "      <td>Male</td>\n",
       "      <td>18</td>\n",
       "      <td>Single</td>\n",
       "      <td>5</td>\n",
       "      <td>4</td>\n",
       "      <td>89641</td>\n",
       "      <td>200</td>\n",
       "    </tr>\n",
       "    <tr>\n",
       "      <th>177</th>\n",
       "      <td>KP781</td>\n",
       "      <td>45</td>\n",
       "      <td>Male</td>\n",
       "      <td>16</td>\n",
       "      <td>Single</td>\n",
       "      <td>5</td>\n",
       "      <td>5</td>\n",
       "      <td>90886</td>\n",
       "      <td>160</td>\n",
       "    </tr>\n",
       "    <tr>\n",
       "      <th>178</th>\n",
       "      <td>KP781</td>\n",
       "      <td>47</td>\n",
       "      <td>Male</td>\n",
       "      <td>18</td>\n",
       "      <td>Partnered</td>\n",
       "      <td>4</td>\n",
       "      <td>5</td>\n",
       "      <td>104581</td>\n",
       "      <td>120</td>\n",
       "    </tr>\n",
       "    <tr>\n",
       "      <th>179</th>\n",
       "      <td>KP781</td>\n",
       "      <td>48</td>\n",
       "      <td>Male</td>\n",
       "      <td>18</td>\n",
       "      <td>Partnered</td>\n",
       "      <td>4</td>\n",
       "      <td>5</td>\n",
       "      <td>95508</td>\n",
       "      <td>180</td>\n",
       "    </tr>\n",
       "  </tbody>\n",
       "</table>\n",
       "</div>"
      ],
      "text/plain": [
       "    Product  Age Gender  Education MaritalStatus  Usage  Fitness  Income  \\\n",
       "175   KP781   40   Male         21        Single      6        5   83416   \n",
       "176   KP781   42   Male         18        Single      5        4   89641   \n",
       "177   KP781   45   Male         16        Single      5        5   90886   \n",
       "178   KP781   47   Male         18     Partnered      4        5  104581   \n",
       "179   KP781   48   Male         18     Partnered      4        5   95508   \n",
       "\n",
       "     Miles  \n",
       "175    200  \n",
       "176    200  \n",
       "177    160  \n",
       "178    120  \n",
       "179    180  "
      ]
     },
     "execution_count": 6,
     "metadata": {},
     "output_type": "execute_result"
    }
   ],
   "source": [
    "#checking the loaded dataframe with last few rows\n",
    "aerofit.tail() "
   ]
  },
  {
   "cell_type": "code",
   "execution_count": 7,
   "id": "25d81ffc",
   "metadata": {},
   "outputs": [
    {
     "data": {
      "text/plain": [
       "(180, 9)"
      ]
     },
     "execution_count": 7,
     "metadata": {},
     "output_type": "execute_result"
    }
   ],
   "source": [
    "# checking the shape of the dataframe \n",
    "aerofit.shape"
   ]
  },
  {
   "cell_type": "code",
   "execution_count": 8,
   "id": "43281ac0",
   "metadata": {},
   "outputs": [
    {
     "data": {
      "text/plain": [
       "1620"
      ]
     },
     "execution_count": 8,
     "metadata": {},
     "output_type": "execute_result"
    }
   ],
   "source": [
    "# total no. of volume(elements)\n",
    "aerofit.size "
   ]
  },
  {
   "cell_type": "code",
   "execution_count": 9,
   "id": "a675230e",
   "metadata": {},
   "outputs": [
    {
     "data": {
      "text/plain": [
       "['Product',\n",
       " 'Age',\n",
       " 'Gender',\n",
       " 'Education',\n",
       " 'MaritalStatus',\n",
       " 'Usage',\n",
       " 'Fitness',\n",
       " 'Income',\n",
       " 'Miles']"
      ]
     },
     "execution_count": 9,
     "metadata": {},
     "output_type": "execute_result"
    }
   ],
   "source": [
    "# checking the columns present in the dataframe\n",
    "aerofit.columns.to_list()"
   ]
  },
  {
   "cell_type": "code",
   "execution_count": 10,
   "id": "2fab9034",
   "metadata": {},
   "outputs": [
    {
     "data": {
      "text/plain": [
       "180"
      ]
     },
     "execution_count": 10,
     "metadata": {},
     "output_type": "execute_result"
    }
   ],
   "source": [
    "#length of dataframe\n",
    "len(aerofit)"
   ]
  },
  {
   "cell_type": "code",
   "execution_count": 11,
   "id": "23c71190",
   "metadata": {},
   "outputs": [
    {
     "data": {
      "text/plain": [
       "Product          object\n",
       "Age               int64\n",
       "Gender           object\n",
       "Education         int64\n",
       "MaritalStatus    object\n",
       "Usage             int64\n",
       "Fitness           int64\n",
       "Income            int64\n",
       "Miles             int64\n",
       "dtype: object"
      ]
     },
     "execution_count": 11,
     "metadata": {},
     "output_type": "execute_result"
    }
   ],
   "source": [
    "#checking datatypes\n",
    "aerofit.dtypes"
   ]
  },
  {
   "cell_type": "code",
   "execution_count": 12,
   "id": "b5210d1a",
   "metadata": {},
   "outputs": [
    {
     "data": {
      "text/plain": [
       "Product           3\n",
       "Age              32\n",
       "Gender            2\n",
       "Education         8\n",
       "MaritalStatus     2\n",
       "Usage             6\n",
       "Fitness           5\n",
       "Income           62\n",
       "Miles            37\n",
       "dtype: int64"
      ]
     },
     "execution_count": 12,
     "metadata": {},
     "output_type": "execute_result"
    }
   ],
   "source": [
    "#number of unique values in our data\n",
    "aerofit.nunique()"
   ]
  },
  {
   "cell_type": "code",
   "execution_count": 13,
   "id": "e6028246",
   "metadata": {},
   "outputs": [
    {
     "name": "stdout",
     "output_type": "stream",
     "text": [
      "<class 'pandas.core.frame.DataFrame'>\n",
      "RangeIndex: 180 entries, 0 to 179\n",
      "Data columns (total 9 columns):\n",
      " #   Column         Non-Null Count  Dtype \n",
      "---  ------         --------------  ----- \n",
      " 0   Product        180 non-null    object\n",
      " 1   Age            180 non-null    int64 \n",
      " 2   Gender         180 non-null    object\n",
      " 3   Education      180 non-null    int64 \n",
      " 4   MaritalStatus  180 non-null    object\n",
      " 5   Usage          180 non-null    int64 \n",
      " 6   Fitness        180 non-null    int64 \n",
      " 7   Income         180 non-null    int64 \n",
      " 8   Miles          180 non-null    int64 \n",
      "dtypes: int64(6), object(3)\n",
      "memory usage: 12.8+ KB\n"
     ]
    }
   ],
   "source": [
    "#This method prints information about the DataFrame including the index dtype and columns, non-null values and memory usage\n",
    "aerofit.info()"
   ]
  },
  {
   "cell_type": "code",
   "execution_count": 14,
   "id": "482a74ff",
   "metadata": {},
   "outputs": [
    {
     "data": {
      "text/html": [
       "<div>\n",
       "<style scoped>\n",
       "    .dataframe tbody tr th:only-of-type {\n",
       "        vertical-align: middle;\n",
       "    }\n",
       "\n",
       "    .dataframe tbody tr th {\n",
       "        vertical-align: top;\n",
       "    }\n",
       "\n",
       "    .dataframe thead th {\n",
       "        text-align: right;\n",
       "    }\n",
       "</style>\n",
       "<table border=\"1\" class=\"dataframe\">\n",
       "  <thead>\n",
       "    <tr style=\"text-align: right;\">\n",
       "      <th></th>\n",
       "      <th>Product</th>\n",
       "      <th>Age</th>\n",
       "      <th>Gender</th>\n",
       "      <th>Education</th>\n",
       "      <th>MaritalStatus</th>\n",
       "      <th>Usage</th>\n",
       "      <th>Fitness</th>\n",
       "      <th>Income</th>\n",
       "      <th>Miles</th>\n",
       "    </tr>\n",
       "  </thead>\n",
       "  <tbody>\n",
       "    <tr>\n",
       "      <th>count</th>\n",
       "      <td>180</td>\n",
       "      <td>180.000000</td>\n",
       "      <td>180</td>\n",
       "      <td>180.000000</td>\n",
       "      <td>180</td>\n",
       "      <td>180.000000</td>\n",
       "      <td>180.000000</td>\n",
       "      <td>180.000000</td>\n",
       "      <td>180.000000</td>\n",
       "    </tr>\n",
       "    <tr>\n",
       "      <th>unique</th>\n",
       "      <td>3</td>\n",
       "      <td>NaN</td>\n",
       "      <td>2</td>\n",
       "      <td>NaN</td>\n",
       "      <td>2</td>\n",
       "      <td>NaN</td>\n",
       "      <td>NaN</td>\n",
       "      <td>NaN</td>\n",
       "      <td>NaN</td>\n",
       "    </tr>\n",
       "    <tr>\n",
       "      <th>top</th>\n",
       "      <td>KP281</td>\n",
       "      <td>NaN</td>\n",
       "      <td>Male</td>\n",
       "      <td>NaN</td>\n",
       "      <td>Partnered</td>\n",
       "      <td>NaN</td>\n",
       "      <td>NaN</td>\n",
       "      <td>NaN</td>\n",
       "      <td>NaN</td>\n",
       "    </tr>\n",
       "    <tr>\n",
       "      <th>freq</th>\n",
       "      <td>80</td>\n",
       "      <td>NaN</td>\n",
       "      <td>104</td>\n",
       "      <td>NaN</td>\n",
       "      <td>107</td>\n",
       "      <td>NaN</td>\n",
       "      <td>NaN</td>\n",
       "      <td>NaN</td>\n",
       "      <td>NaN</td>\n",
       "    </tr>\n",
       "    <tr>\n",
       "      <th>mean</th>\n",
       "      <td>NaN</td>\n",
       "      <td>28.788889</td>\n",
       "      <td>NaN</td>\n",
       "      <td>15.572222</td>\n",
       "      <td>NaN</td>\n",
       "      <td>3.455556</td>\n",
       "      <td>3.311111</td>\n",
       "      <td>53719.577778</td>\n",
       "      <td>103.194444</td>\n",
       "    </tr>\n",
       "    <tr>\n",
       "      <th>std</th>\n",
       "      <td>NaN</td>\n",
       "      <td>6.943498</td>\n",
       "      <td>NaN</td>\n",
       "      <td>1.617055</td>\n",
       "      <td>NaN</td>\n",
       "      <td>1.084797</td>\n",
       "      <td>0.958869</td>\n",
       "      <td>16506.684226</td>\n",
       "      <td>51.863605</td>\n",
       "    </tr>\n",
       "    <tr>\n",
       "      <th>min</th>\n",
       "      <td>NaN</td>\n",
       "      <td>18.000000</td>\n",
       "      <td>NaN</td>\n",
       "      <td>12.000000</td>\n",
       "      <td>NaN</td>\n",
       "      <td>2.000000</td>\n",
       "      <td>1.000000</td>\n",
       "      <td>29562.000000</td>\n",
       "      <td>21.000000</td>\n",
       "    </tr>\n",
       "    <tr>\n",
       "      <th>25%</th>\n",
       "      <td>NaN</td>\n",
       "      <td>24.000000</td>\n",
       "      <td>NaN</td>\n",
       "      <td>14.000000</td>\n",
       "      <td>NaN</td>\n",
       "      <td>3.000000</td>\n",
       "      <td>3.000000</td>\n",
       "      <td>44058.750000</td>\n",
       "      <td>66.000000</td>\n",
       "    </tr>\n",
       "    <tr>\n",
       "      <th>50%</th>\n",
       "      <td>NaN</td>\n",
       "      <td>26.000000</td>\n",
       "      <td>NaN</td>\n",
       "      <td>16.000000</td>\n",
       "      <td>NaN</td>\n",
       "      <td>3.000000</td>\n",
       "      <td>3.000000</td>\n",
       "      <td>50596.500000</td>\n",
       "      <td>94.000000</td>\n",
       "    </tr>\n",
       "    <tr>\n",
       "      <th>75%</th>\n",
       "      <td>NaN</td>\n",
       "      <td>33.000000</td>\n",
       "      <td>NaN</td>\n",
       "      <td>16.000000</td>\n",
       "      <td>NaN</td>\n",
       "      <td>4.000000</td>\n",
       "      <td>4.000000</td>\n",
       "      <td>58668.000000</td>\n",
       "      <td>114.750000</td>\n",
       "    </tr>\n",
       "    <tr>\n",
       "      <th>max</th>\n",
       "      <td>NaN</td>\n",
       "      <td>50.000000</td>\n",
       "      <td>NaN</td>\n",
       "      <td>21.000000</td>\n",
       "      <td>NaN</td>\n",
       "      <td>7.000000</td>\n",
       "      <td>5.000000</td>\n",
       "      <td>104581.000000</td>\n",
       "      <td>360.000000</td>\n",
       "    </tr>\n",
       "  </tbody>\n",
       "</table>\n",
       "</div>"
      ],
      "text/plain": [
       "       Product         Age Gender   Education MaritalStatus       Usage  \\\n",
       "count      180  180.000000    180  180.000000           180  180.000000   \n",
       "unique       3         NaN      2         NaN             2         NaN   \n",
       "top      KP281         NaN   Male         NaN     Partnered         NaN   \n",
       "freq        80         NaN    104         NaN           107         NaN   \n",
       "mean       NaN   28.788889    NaN   15.572222           NaN    3.455556   \n",
       "std        NaN    6.943498    NaN    1.617055           NaN    1.084797   \n",
       "min        NaN   18.000000    NaN   12.000000           NaN    2.000000   \n",
       "25%        NaN   24.000000    NaN   14.000000           NaN    3.000000   \n",
       "50%        NaN   26.000000    NaN   16.000000           NaN    3.000000   \n",
       "75%        NaN   33.000000    NaN   16.000000           NaN    4.000000   \n",
       "max        NaN   50.000000    NaN   21.000000           NaN    7.000000   \n",
       "\n",
       "           Fitness         Income       Miles  \n",
       "count   180.000000     180.000000  180.000000  \n",
       "unique         NaN            NaN         NaN  \n",
       "top            NaN            NaN         NaN  \n",
       "freq           NaN            NaN         NaN  \n",
       "mean      3.311111   53719.577778  103.194444  \n",
       "std       0.958869   16506.684226   51.863605  \n",
       "min       1.000000   29562.000000   21.000000  \n",
       "25%       3.000000   44058.750000   66.000000  \n",
       "50%       3.000000   50596.500000   94.000000  \n",
       "75%       4.000000   58668.000000  114.750000  \n",
       "max       5.000000  104581.000000  360.000000  "
      ]
     },
     "execution_count": 14,
     "metadata": {},
     "output_type": "execute_result"
    }
   ],
   "source": [
    "aerofit.describe(include=\"all\")"
   ]
  },
  {
   "cell_type": "markdown",
   "id": "d840d5ae",
   "metadata": {},
   "source": [
    "### Analysing basic metrics"
   ]
  },
  {
   "cell_type": "markdown",
   "id": "8827dbba",
   "metadata": {},
   "source": [
    "**Observation**\n",
    "##### Product:\n",
    "- There are three distinct products in the dataframe.\n",
    "- product with most frequency is KP281.\n",
    "##### Age:\n",
    "- Minimum age of the person is 18 & Maximum 50.\n",
    "- Average is 28.79 and 75% of persons have age less than or equal to 33 and 25% of persons have   age less than or equal 24\n",
    "##### Gender:\n",
    "- Out of 180 data, 104 are Male and rest 76 are the female.(as only two unique gender is given male and female)\n",
    "##### Education:\n",
    "- Most of the people are having 16 years of education i.e. 75% of persons are having education equal to or less       than 16 years.\n",
    "##### MaritalStatus:\n",
    "- Out of 180 data, 107 are Partnered and rest 73 are the single.(as only two unique gender is given Partnered and Single)\n",
    "##### Usage:\n",
    "- 75% of people prefers to use tredmil 4 or less than 4 times a week\n",
    "##### Fitness\n",
    "- 75% of people selfrated as 4 or less than 4 in fitness\n",
    "##### Income(in$):\n",
    "- Min is 29562.\n",
    "- Max is 104581\n",
    "- std is 16506.684226 (very high). There is posibility of Outliers\n",
    "##### Miles:\n",
    "- 75% of people run or walk less or equal to 114km per week\n",
    "- std is 16506.684226 (very high). There is posibility of Outliers"
   ]
  },
  {
   "cell_type": "markdown",
   "id": "4b1388a4",
   "metadata": {},
   "source": [
    "### Missing value Detection "
   ]
  },
  {
   "cell_type": "code",
   "execution_count": 15,
   "id": "1fbca48d",
   "metadata": {},
   "outputs": [
    {
     "data": {
      "text/plain": [
       "Product          0\n",
       "Age              0\n",
       "Gender           0\n",
       "Education        0\n",
       "MaritalStatus    0\n",
       "Usage            0\n",
       "Fitness          0\n",
       "Income           0\n",
       "Miles            0\n",
       "dtype: int64"
      ]
     },
     "execution_count": 15,
     "metadata": {},
     "output_type": "execute_result"
    }
   ],
   "source": [
    "aerofit.isnull().sum()"
   ]
  },
  {
   "cell_type": "markdown",
   "id": "abef476a",
   "metadata": {},
   "source": [
    "**Observation**\n",
    "- There is no missing values in the given Aerofit dataset."
   ]
  },
  {
   "cell_type": "markdown",
   "id": "ef274b72",
   "metadata": {},
   "source": [
    "#### Detect Outliers (using boxplot, “describe” method by checking the difference between mean and median)"
   ]
  },
  {
   "cell_type": "markdown",
   "id": "3acfdac5",
   "metadata": {},
   "source": [
    "### Outlier Detection Through Boxplot"
   ]
  },
  {
   "cell_type": "code",
   "execution_count": 57,
   "id": "dc1638d4",
   "metadata": {},
   "outputs": [
    {
     "data": {
      "image/png": "[encoded data removed]",
      "text/plain": [
       "<Figure size 1500x700 with 6 Axes>"
      ]
     },
     "metadata": {},
     "output_type": "display_data"
    }
   ],
   "source": [
    "sns.set_style(style='whitegrid')\n",
    "attributes = ['Age', 'Education', 'Usage', 'Fitness', 'Income', 'Miles']\n",
    "fig, axis = plt.subplots(3,2,figsize=(15, 7))\n",
    "fig.subplots_adjust(top=1.8)\n",
    "count=0\n",
    "for i in range(3):\n",
    "    for j in range(2):\n",
    "        sns.boxplot(data=aerofit,x=attributes[count],orient='h',ax=axis[i,j],palette='PuBuGn')\n",
    "        axis[i,j].set_title(f\"Outlier detection of {attributes[count]}\", pad=12, fontsize=12)\n",
    "        count += 1\n",
    "plt.show()"
   ]
  },
  {
   "cell_type": "markdown",
   "id": "763f54e3",
   "metadata": {},
   "source": [
    "**Observation**\n",
    "###### In Areofit DataFrame:\n",
    "- Income and Miles are having more outliers.\n",
    "- Age, Education and Usage are having very less outliers."
   ]
  },
  {
   "cell_type": "markdown",
   "id": "323f8a98",
   "metadata": {},
   "source": [
    "### Outlier Detection Through Describe method"
   ]
  },
  {
   "cell_type": "code",
   "execution_count": 52,
   "id": "d0c65538",
   "metadata": {},
   "outputs": [
    {
     "data": {
      "text/html": [
       "<div>\n",
       "<style scoped>\n",
       "    .dataframe tbody tr th:only-of-type {\n",
       "        vertical-align: middle;\n",
       "    }\n",
       "\n",
       "    .dataframe tbody tr th {\n",
       "        vertical-align: top;\n",
       "    }\n",
       "\n",
       "    .dataframe thead th {\n",
       "        text-align: right;\n",
       "    }\n",
       "</style>\n",
       "<table border=\"1\" class=\"dataframe\">\n",
       "  <thead>\n",
       "    <tr style=\"text-align: right;\">\n",
       "      <th></th>\n",
       "      <th>Product</th>\n",
       "      <th>Age</th>\n",
       "      <th>Gender</th>\n",
       "      <th>Education</th>\n",
       "      <th>MaritalStatus</th>\n",
       "      <th>Usage</th>\n",
       "      <th>Fitness</th>\n",
       "      <th>Income</th>\n",
       "      <th>Miles</th>\n",
       "    </tr>\n",
       "  </thead>\n",
       "  <tbody>\n",
       "    <tr>\n",
       "      <th>count</th>\n",
       "      <td>180</td>\n",
       "      <td>180.000000</td>\n",
       "      <td>180</td>\n",
       "      <td>180.000000</td>\n",
       "      <td>180</td>\n",
       "      <td>180.000000</td>\n",
       "      <td>180.000000</td>\n",
       "      <td>180.000000</td>\n",
       "      <td>180.000000</td>\n",
       "    </tr>\n",
       "    <tr>\n",
       "      <th>unique</th>\n",
       "      <td>3</td>\n",
       "      <td>NaN</td>\n",
       "      <td>2</td>\n",
       "      <td>NaN</td>\n",
       "      <td>2</td>\n",
       "      <td>NaN</td>\n",
       "      <td>NaN</td>\n",
       "      <td>NaN</td>\n",
       "      <td>NaN</td>\n",
       "    </tr>\n",
       "    <tr>\n",
       "      <th>top</th>\n",
       "      <td>KP281</td>\n",
       "      <td>NaN</td>\n",
       "      <td>Male</td>\n",
       "      <td>NaN</td>\n",
       "      <td>Partnered</td>\n",
       "      <td>NaN</td>\n",
       "      <td>NaN</td>\n",
       "      <td>NaN</td>\n",
       "      <td>NaN</td>\n",
       "    </tr>\n",
       "    <tr>\n",
       "      <th>freq</th>\n",
       "      <td>80</td>\n",
       "      <td>NaN</td>\n",
       "      <td>104</td>\n",
       "      <td>NaN</td>\n",
       "      <td>107</td>\n",
       "      <td>NaN</td>\n",
       "      <td>NaN</td>\n",
       "      <td>NaN</td>\n",
       "      <td>NaN</td>\n",
       "    </tr>\n",
       "    <tr>\n",
       "      <th>mean</th>\n",
       "      <td>NaN</td>\n",
       "      <td>28.788889</td>\n",
       "      <td>NaN</td>\n",
       "      <td>15.572222</td>\n",
       "      <td>NaN</td>\n",
       "      <td>3.455556</td>\n",
       "      <td>3.311111</td>\n",
       "      <td>53719.577778</td>\n",
       "      <td>103.194444</td>\n",
       "    </tr>\n",
       "    <tr>\n",
       "      <th>std</th>\n",
       "      <td>NaN</td>\n",
       "      <td>6.943498</td>\n",
       "      <td>NaN</td>\n",
       "      <td>1.617055</td>\n",
       "      <td>NaN</td>\n",
       "      <td>1.084797</td>\n",
       "      <td>0.958869</td>\n",
       "      <td>16506.684226</td>\n",
       "      <td>51.863605</td>\n",
       "    </tr>\n",
       "    <tr>\n",
       "      <th>min</th>\n",
       "      <td>NaN</td>\n",
       "      <td>18.000000</td>\n",
       "      <td>NaN</td>\n",
       "      <td>12.000000</td>\n",
       "      <td>NaN</td>\n",
       "      <td>2.000000</td>\n",
       "      <td>1.000000</td>\n",
       "      <td>29562.000000</td>\n",
       "      <td>21.000000</td>\n",
       "    </tr>\n",
       "    <tr>\n",
       "      <th>25%</th>\n",
       "      <td>NaN</td>\n",
       "      <td>24.000000</td>\n",
       "      <td>NaN</td>\n",
       "      <td>14.000000</td>\n",
       "      <td>NaN</td>\n",
       "      <td>3.000000</td>\n",
       "      <td>3.000000</td>\n",
       "      <td>44058.750000</td>\n",
       "      <td>66.000000</td>\n",
       "    </tr>\n",
       "    <tr>\n",
       "      <th>50%</th>\n",
       "      <td>NaN</td>\n",
       "      <td>26.000000</td>\n",
       "      <td>NaN</td>\n",
       "      <td>16.000000</td>\n",
       "      <td>NaN</td>\n",
       "      <td>3.000000</td>\n",
       "      <td>3.000000</td>\n",
       "      <td>50596.500000</td>\n",
       "      <td>94.000000</td>\n",
       "    </tr>\n",
       "    <tr>\n",
       "      <th>75%</th>\n",
       "      <td>NaN</td>\n",
       "      <td>33.000000</td>\n",
       "      <td>NaN</td>\n",
       "      <td>16.000000</td>\n",
       "      <td>NaN</td>\n",
       "      <td>4.000000</td>\n",
       "      <td>4.000000</td>\n",
       "      <td>58668.000000</td>\n",
       "      <td>114.750000</td>\n",
       "    </tr>\n",
       "    <tr>\n",
       "      <th>max</th>\n",
       "      <td>NaN</td>\n",
       "      <td>50.000000</td>\n",
       "      <td>NaN</td>\n",
       "      <td>21.000000</td>\n",
       "      <td>NaN</td>\n",
       "      <td>7.000000</td>\n",
       "      <td>5.000000</td>\n",
       "      <td>104581.000000</td>\n",
       "      <td>360.000000</td>\n",
       "    </tr>\n",
       "  </tbody>\n",
       "</table>\n",
       "</div>"
      ],
      "text/plain": [
       "       Product         Age Gender   Education MaritalStatus       Usage  \\\n",
       "count      180  180.000000    180  180.000000           180  180.000000   \n",
       "unique       3         NaN      2         NaN             2         NaN   \n",
       "top      KP281         NaN   Male         NaN     Partnered         NaN   \n",
       "freq        80         NaN    104         NaN           107         NaN   \n",
       "mean       NaN   28.788889    NaN   15.572222           NaN    3.455556   \n",
       "std        NaN    6.943498    NaN    1.617055           NaN    1.084797   \n",
       "min        NaN   18.000000    NaN   12.000000           NaN    2.000000   \n",
       "25%        NaN   24.000000    NaN   14.000000           NaN    3.000000   \n",
       "50%        NaN   26.000000    NaN   16.000000           NaN    3.000000   \n",
       "75%        NaN   33.000000    NaN   16.000000           NaN    4.000000   \n",
       "max        NaN   50.000000    NaN   21.000000           NaN    7.000000   \n",
       "\n",
       "           Fitness         Income       Miles  \n",
       "count   180.000000     180.000000  180.000000  \n",
       "unique         NaN            NaN         NaN  \n",
       "top            NaN            NaN         NaN  \n",
       "freq           NaN            NaN         NaN  \n",
       "mean      3.311111   53719.577778  103.194444  \n",
       "std       0.958869   16506.684226   51.863605  \n",
       "min       1.000000   29562.000000   21.000000  \n",
       "25%       3.000000   44058.750000   66.000000  \n",
       "50%       3.000000   50596.500000   94.000000  \n",
       "75%       4.000000   58668.000000  114.750000  \n",
       "max       5.000000  104581.000000  360.000000  "
      ]
     },
     "execution_count": 52,
     "metadata": {},
     "output_type": "execute_result"
    }
   ],
   "source": [
    "aerofit.describe(include=\"all\")"
   ]
  },
  {
   "cell_type": "markdown",
   "id": "ed146481",
   "metadata": {},
   "source": [
    "**Observation**\n",
    "* Age\n",
    " - Mean is 28.78 and median is 26 so there is some number of outliers.\n",
    "* Education\n",
    " - Mean is 15.5 and median is 16 so there is very less number of outliers.\n",
    "* Usage \n",
    " - Mean is 3,45 and median is 3 so there is very less number of outliers.\n",
    "* Fitness \n",
    " - Mean is 3,31 and median is 3 so there is very few outliers.\n",
    "* Income \n",
    " - 53719.57 is the mean and median is 50596.50. mean is comparatively much hier than the median.\n",
    " - it is possiblity of high number of outliers\n",
    "* Miles\n",
    " - 103.19 is the mean and median is 94.00. mean is comparatively much hier than the median.\n",
    " - it is possiblity of high number of outliers\n"
   ]
  },
  {
   "cell_type": "markdown",
   "id": "d47502cc",
   "metadata": {},
   "source": [
    "### Non-Graphical Analysis: Value counts and unique "
   ]
  },
  {
   "cell_type": "code",
   "execution_count": 17,
   "id": "8e739de0",
   "metadata": {},
   "outputs": [
    {
     "data": {
      "text/plain": [
       "array(['KP281', 'KP481', 'KP781'], dtype=object)"
      ]
     },
     "execution_count": 17,
     "metadata": {},
     "output_type": "execute_result"
    }
   ],
   "source": [
    "# cheking for product\n",
    "aerofit['Product'].unique()"
   ]
  },
  {
   "cell_type": "code",
   "execution_count": 18,
   "id": "462edbc7",
   "metadata": {},
   "outputs": [
    {
     "data": {
      "text/plain": [
       "KP281    80\n",
       "KP481    60\n",
       "KP781    40\n",
       "Name: Product, dtype: int64"
      ]
     },
     "execution_count": 18,
     "metadata": {},
     "output_type": "execute_result"
    }
   ],
   "source": [
    "aerofit['Product'].value_counts()"
   ]
  },
  {
   "cell_type": "markdown",
   "id": "0c809546",
   "metadata": {},
   "source": [
    "**Observation**\n",
    "- There are three distict type of product\n",
    "- KP281 is the most used and KP781 is the least used\n",
    "   "
   ]
  },
  {
   "cell_type": "code",
   "execution_count": 19,
   "id": "8b3850db",
   "metadata": {},
   "outputs": [
    {
     "data": {
      "text/plain": [
       "array([18, 19, 20, 21, 22, 23, 24, 25, 26, 27, 28, 29, 30, 31, 32, 33, 34,\n",
       "       35, 36, 37, 38, 39, 40, 41, 43, 44, 46, 47, 50, 45, 48, 42])"
      ]
     },
     "execution_count": 19,
     "metadata": {},
     "output_type": "execute_result"
    }
   ],
   "source": [
    "# cheking for age\n",
    "aerofit['Age'].unique()"
   ]
  },
  {
   "cell_type": "code",
   "execution_count": 20,
   "id": "ec831ab9",
   "metadata": {},
   "outputs": [
    {
     "data": {
      "text/plain": [
       "25    25\n",
       "23    18\n",
       "24    12\n",
       "26    12\n",
       "28     9\n",
       "35     8\n",
       "33     8\n",
       "30     7\n",
       "38     7\n",
       "21     7\n",
       "22     7\n",
       "27     7\n",
       "31     6\n",
       "34     6\n",
       "29     6\n",
       "20     5\n",
       "40     5\n",
       "32     4\n",
       "19     4\n",
       "48     2\n",
       "37     2\n",
       "45     2\n",
       "47     2\n",
       "46     1\n",
       "50     1\n",
       "18     1\n",
       "44     1\n",
       "43     1\n",
       "41     1\n",
       "39     1\n",
       "36     1\n",
       "42     1\n",
       "Name: Age, dtype: int64"
      ]
     },
     "execution_count": 20,
     "metadata": {},
     "output_type": "execute_result"
    }
   ],
   "source": [
    "aerofit['Age'].value_counts()"
   ]
  },
  {
   "cell_type": "markdown",
   "id": "75d26481",
   "metadata": {},
   "source": [
    "**Observation**\n",
    "- 18 to 42 age group customers are present\n",
    "- Maximum customers fall in the 20-35 age group"
   ]
  },
  {
   "cell_type": "code",
   "execution_count": 21,
   "id": "ce93beb0",
   "metadata": {},
   "outputs": [
    {
     "data": {
      "text/plain": [
       "array(['Male', 'Female'], dtype=object)"
      ]
     },
     "execution_count": 21,
     "metadata": {},
     "output_type": "execute_result"
    }
   ],
   "source": [
    "# cheking for Gender\n",
    "aerofit['Gender'].unique()"
   ]
  },
  {
   "cell_type": "code",
   "execution_count": 22,
   "id": "4cca65a8",
   "metadata": {},
   "outputs": [
    {
     "data": {
      "text/plain": [
       "Male      104\n",
       "Female     76\n",
       "Name: Gender, dtype: int64"
      ]
     },
     "execution_count": 22,
     "metadata": {},
     "output_type": "execute_result"
    }
   ],
   "source": [
    "aerofit['Gender'].value_counts()"
   ]
  },
  {
   "cell_type": "markdown",
   "id": "6f31dae2",
   "metadata": {},
   "source": [
    "**Observation**\n",
    "- Two types of gender customers present male and female\n",
    "- male customer is higer than female"
   ]
  },
  {
   "cell_type": "code",
   "execution_count": 23,
   "id": "48cd18c4",
   "metadata": {},
   "outputs": [
    {
     "data": {
      "text/plain": [
       "array([14, 15, 12, 13, 16, 18, 20, 21])"
      ]
     },
     "execution_count": 23,
     "metadata": {},
     "output_type": "execute_result"
    }
   ],
   "source": [
    "# cheking for Education\n",
    "aerofit['Education'].unique()"
   ]
  },
  {
   "cell_type": "code",
   "execution_count": 24,
   "id": "1a59fd62",
   "metadata": {},
   "outputs": [
    {
     "data": {
      "text/plain": [
       "16    85\n",
       "14    55\n",
       "18    23\n",
       "15     5\n",
       "13     5\n",
       "12     3\n",
       "21     3\n",
       "20     1\n",
       "Name: Education, dtype: int64"
      ]
     },
     "execution_count": 24,
     "metadata": {},
     "output_type": "execute_result"
    }
   ],
   "source": [
    "aerofit['Education'].value_counts()"
   ]
  },
  {
   "cell_type": "markdown",
   "id": "5700fa6f",
   "metadata": {},
   "source": [
    "**Observation**\n",
    "- Most of the customers have 16 yers of education and least is 1 year"
   ]
  },
  {
   "cell_type": "code",
   "execution_count": 25,
   "id": "44064359",
   "metadata": {},
   "outputs": [
    {
     "data": {
      "text/plain": [
       "array(['Single', 'Partnered'], dtype=object)"
      ]
     },
     "execution_count": 25,
     "metadata": {},
     "output_type": "execute_result"
    }
   ],
   "source": [
    "# cheking for MaritalStatus\n",
    "aerofit['MaritalStatus'].unique()"
   ]
  },
  {
   "cell_type": "code",
   "execution_count": 26,
   "id": "efe6b718",
   "metadata": {},
   "outputs": [
    {
     "data": {
      "text/plain": [
       "Partnered    107\n",
       "Single        73\n",
       "Name: MaritalStatus, dtype: int64"
      ]
     },
     "execution_count": 26,
     "metadata": {},
     "output_type": "execute_result"
    }
   ],
   "source": [
    "aerofit['MaritalStatus'].value_counts()"
   ]
  },
  {
   "cell_type": "markdown",
   "id": "7e79666a",
   "metadata": {},
   "source": [
    "**Observation**\n",
    "- Most of the customers have maratial status as Partnered but singles counts are also impactful"
   ]
  },
  {
   "cell_type": "code",
   "execution_count": 27,
   "id": "ac445f78",
   "metadata": {},
   "outputs": [
    {
     "data": {
      "text/plain": [
       "array([3, 2, 4, 5, 6, 7])"
      ]
     },
     "execution_count": 27,
     "metadata": {},
     "output_type": "execute_result"
    }
   ],
   "source": [
    "# cheking for Usage\n",
    "aerofit['Usage'].unique()"
   ]
  },
  {
   "cell_type": "code",
   "execution_count": 28,
   "id": "eff6ee8e",
   "metadata": {},
   "outputs": [
    {
     "data": {
      "text/plain": [
       "3    69\n",
       "4    52\n",
       "2    33\n",
       "5    17\n",
       "6     7\n",
       "7     2\n",
       "Name: Usage, dtype: int64"
      ]
     },
     "execution_count": 28,
     "metadata": {},
     "output_type": "execute_result"
    }
   ],
   "source": [
    "aerofit['Usage'].value_counts()"
   ]
  },
  {
   "cell_type": "markdown",
   "id": "c9ac66d0",
   "metadata": {},
   "source": [
    "**Observation**\n",
    "- Maximum number of customers decided to use 2-4 times per week"
   ]
  },
  {
   "cell_type": "code",
   "execution_count": 29,
   "id": "250e7cfd",
   "metadata": {},
   "outputs": [
    {
     "data": {
      "text/plain": [
       "array([4, 3, 2, 1, 5])"
      ]
     },
     "execution_count": 29,
     "metadata": {},
     "output_type": "execute_result"
    }
   ],
   "source": [
    "# cheking for Fitness\n",
    "aerofit['Fitness'].unique()"
   ]
  },
  {
   "cell_type": "code",
   "execution_count": 30,
   "id": "6ce0f206",
   "metadata": {},
   "outputs": [
    {
     "data": {
      "text/plain": [
       "3    97\n",
       "5    31\n",
       "2    26\n",
       "4    24\n",
       "1     2\n",
       "Name: Fitness, dtype: int64"
      ]
     },
     "execution_count": 30,
     "metadata": {},
     "output_type": "execute_result"
    }
   ],
   "source": [
    "aerofit['Fitness'].value_counts()"
   ]
  },
  {
   "cell_type": "markdown",
   "id": "79696a06",
   "metadata": {},
   "source": [
    "**Observation**\n",
    "- Maximum number of customers self-rated fitness as 3\n",
    "- Considerable number of customers self-rated fitness between 2-4\n",
    "- least self-rated is 1"
   ]
  },
  {
   "cell_type": "code",
   "execution_count": 31,
   "id": "a3df2fb0",
   "metadata": {},
   "outputs": [
    {
     "data": {
      "text/plain": [
       "array([ 29562,  31836,  30699,  32973,  35247,  37521,  36384,  38658,\n",
       "        40932,  34110,  39795,  42069,  44343,  45480,  46617,  48891,\n",
       "        53439,  43206,  52302,  51165,  50028,  54576,  68220,  55713,\n",
       "        60261,  67083,  56850,  59124,  61398,  57987,  64809,  47754,\n",
       "        65220,  62535,  48658,  54781,  48556,  58516,  53536,  61006,\n",
       "        57271,  52291,  49801,  62251,  64741,  70966,  75946,  74701,\n",
       "        69721,  83416,  88396,  90886,  92131,  77191,  52290,  85906,\n",
       "       103336,  99601,  89641,  95866, 104581,  95508])"
      ]
     },
     "execution_count": 31,
     "metadata": {},
     "output_type": "execute_result"
    }
   ],
   "source": [
    "# cheking for Income\n",
    "aerofit['Income'].unique()"
   ]
  },
  {
   "cell_type": "code",
   "execution_count": 32,
   "id": "b0701749",
   "metadata": {},
   "outputs": [
    {
     "data": {
      "text/plain": [
       "104581"
      ]
     },
     "execution_count": 32,
     "metadata": {},
     "output_type": "execute_result"
    }
   ],
   "source": [
    "# cheking for Income\n",
    "aerofit['Income'].max()"
   ]
  },
  {
   "cell_type": "code",
   "execution_count": 33,
   "id": "0b554da3",
   "metadata": {},
   "outputs": [
    {
     "data": {
      "text/plain": [
       "29562"
      ]
     },
     "execution_count": 33,
     "metadata": {},
     "output_type": "execute_result"
    }
   ],
   "source": [
    "# cheking for Income\n",
    "aerofit['Income'].min()"
   ]
  },
  {
   "cell_type": "markdown",
   "id": "604e77ec",
   "metadata": {},
   "source": [
    "**Observation**\n",
    "- customers income range is between 29562 to 104581 in dollar($)"
   ]
  },
  {
   "cell_type": "code",
   "execution_count": 34,
   "id": "bfcef73d",
   "metadata": {},
   "outputs": [
    {
     "data": {
      "text/plain": [
       "array([112,  75,  66,  85,  47, 141, 103,  94, 113,  38, 188,  56, 132,\n",
       "       169,  64,  53, 106,  95, 212,  42, 127,  74, 170,  21, 120, 200,\n",
       "       140, 100,  80, 160, 180, 240, 150, 300, 280, 260, 360])"
      ]
     },
     "execution_count": 34,
     "metadata": {},
     "output_type": "execute_result"
    }
   ],
   "source": [
    "# cheking for Miles\n",
    "aerofit['Miles'].unique()"
   ]
  },
  {
   "cell_type": "code",
   "execution_count": 35,
   "id": "2214922d",
   "metadata": {},
   "outputs": [
    {
     "data": {
      "text/plain": [
       "21"
      ]
     },
     "execution_count": 35,
     "metadata": {},
     "output_type": "execute_result"
    }
   ],
   "source": [
    "# cheking for Miles\n",
    "aerofit['Miles'].min()"
   ]
  },
  {
   "cell_type": "code",
   "execution_count": 36,
   "id": "80da4e1b",
   "metadata": {},
   "outputs": [
    {
     "data": {
      "text/plain": [
       "360"
      ]
     },
     "execution_count": 36,
     "metadata": {},
     "output_type": "execute_result"
    }
   ],
   "source": [
    "# cheking for Miles\n",
    "aerofit['Miles'].max()"
   ]
  },
  {
   "cell_type": "markdown",
   "id": "7d4fea37",
   "metadata": {},
   "source": [
    "**Observation**\n",
    "- customers have decided differt miles(in km) per week as per their convinience\n",
    "- The range is 21 to 360"
   ]
  },
  {
   "cell_type": "markdown",
   "id": "8c70a780",
   "metadata": {},
   "source": [
    "### Data Distribution for the numeric attributes(Univariant)"
   ]
  },
  {
   "cell_type": "code",
   "execution_count": 1,
   "id": "bdcef235",
   "metadata": {},
   "outputs": [
    {
     "ename": "NameError",
     "evalue": "name 'sns' is not defined",
     "output_type": "error",
     "traceback": [
      "\u001b[0;31m---------------------------------------------------------------------------\u001b[0m",
      "\u001b[0;31mNameError\u001b[0m                                 Traceback (most recent call last)",
      "Cell \u001b[0;32mIn[1], line 1\u001b[0m\n\u001b[0;32m----> 1\u001b[0m \u001b[43msns\u001b[49m\u001b[38;5;241m.\u001b[39mset_style(style\u001b[38;5;241m=\u001b[39m\u001b[38;5;124m'\u001b[39m\u001b[38;5;124mwhitegrid\u001b[39m\u001b[38;5;124m'\u001b[39m)\n\u001b[1;32m      2\u001b[0m attributes \u001b[38;5;241m=\u001b[39m [\u001b[38;5;124m'\u001b[39m\u001b[38;5;124mAge\u001b[39m\u001b[38;5;124m'\u001b[39m, \u001b[38;5;124m'\u001b[39m\u001b[38;5;124mEducation\u001b[39m\u001b[38;5;124m'\u001b[39m, \u001b[38;5;124m'\u001b[39m\u001b[38;5;124mUsage\u001b[39m\u001b[38;5;124m'\u001b[39m, \u001b[38;5;124m'\u001b[39m\u001b[38;5;124mFitness\u001b[39m\u001b[38;5;124m'\u001b[39m, \u001b[38;5;124m'\u001b[39m\u001b[38;5;124mIncome\u001b[39m\u001b[38;5;124m'\u001b[39m, \u001b[38;5;124m'\u001b[39m\u001b[38;5;124mMiles\u001b[39m\u001b[38;5;124m'\u001b[39m]\n\u001b[1;32m      3\u001b[0m fig, axis \u001b[38;5;241m=\u001b[39m plt\u001b[38;5;241m.\u001b[39msubplots(\u001b[38;5;241m3\u001b[39m,\u001b[38;5;241m2\u001b[39m,figsize\u001b[38;5;241m=\u001b[39m(\u001b[38;5;241m15\u001b[39m, \u001b[38;5;241m12\u001b[39m))\n",
      "\u001b[0;31mNameError\u001b[0m: name 'sns' is not defined"
     ]
    }
   ],
   "source": [
    "sns.set_style(style='whitegrid')\n",
    "attributes = ['Age', 'Education', 'Usage', 'Fitness', 'Income', 'Miles']\n",
    "fig, axis = plt.subplots(3,2,figsize=(15, 12))\n",
    "fig.subplots_adjust(top=1.5)\n",
    "count=0\n"
   ]
  },
  {
   "cell_type": "markdown",
   "id": "bef409fb",
   "metadata": {},
   "source": [
    "**Observation**\n",
    "##### Age:\n",
    "- Highest customers falls into the 20-50 age category. We can see the count of  at 25 and 26\n",
    "### Education:\n",
    "- Highest of the customers are having 16 years of education.\n",
    "### Usages:\n",
    "- Highest of the customers have decided to use the trendmil threeice a week.\n",
    "##### Fitness\n",
    "- Highest of the customers have rated themselves 3 in fitness.\n",
    "##### Income(in$):\n",
    "- Highest of the people income falls into 50000-60000 dollar.\n",
    "##### Miles:\n",
    "- Highest customers decided to walk or run 114 km per week"
   ]
  },
  {
   "cell_type": "markdown",
   "id": "84cbcf9c",
   "metadata": {},
   "source": [
    "###  Data distribution categorical attributes(Univariant)"
   ]
  },
  {
   "cell_type": "code",
   "execution_count": 70,
   "id": "acdb655f",
   "metadata": {},
   "outputs": [
    {
     "data": {
      "image/png": "[encoded data removed]",
      "text/plain": [
       "<Figure size 1500x200 with 3 Axes>"
      ]
     },
     "metadata": {},
     "output_type": "display_data"
    }
   ],
   "source": [
    "sns.set_style(style='whitegrid')\n",
    "attributes = ['Gender', 'Occupation','City_Category','Marital_Status','Product_Category']\n",
    "fig, axis = plt.subplots(2,2,figsize=(16, 12))\n",
    "fig.subplots_adjust(top=1.5)\n",
    "count=0\n",
    "for i in range(3):\n",
    "        sns.countplot(data=aerofit,x=attributes[count],ax=axis[i],edgecolor=\"0.20\",palette='PuBuGn')\n",
    "        axis[i].set_title(f\"Distribution of customers by  {attributes[count]} \", pad=12, fontsize=12)\n",
    "        count += 1\n",
    "plt.show()"
   ]
  },
  {
   "cell_type": "markdown",
   "id": "9da38775",
   "metadata": {},
   "source": [
    "**Observation**\n",
    "##### Product:\n",
    "- There are three distinct products in the dataframe.\n",
    "- product with most used by customer is KP281.\n",
    "- least used product is KP781\n",
    "##### Gender:\n",
    "- count of Male customers is more than female customers.\n",
    "##### MaritalStatus:\n",
    "- count of Partnered customers are more than single customers\n"
   ]
  },
  {
   "cell_type": "code",
   "execution_count": 39,
   "id": "44f24592",
   "metadata": {
    "scrolled": true
   },
   "outputs": [
    {
     "data": {
      "text/html": [
       "<div>\n",
       "<style scoped>\n",
       "    .dataframe tbody tr th:only-of-type {\n",
       "        vertical-align: middle;\n",
       "    }\n",
       "\n",
       "    .dataframe tbody tr th {\n",
       "        vertical-align: top;\n",
       "    }\n",
       "\n",
       "    .dataframe thead th {\n",
       "        text-align: right;\n",
       "    }\n",
       "</style>\n",
       "<table border=\"1\" class=\"dataframe\">\n",
       "  <thead>\n",
       "    <tr style=\"text-align: right;\">\n",
       "      <th></th>\n",
       "      <th>index</th>\n",
       "      <th>count of product</th>\n",
       "      <th>product in %</th>\n",
       "    </tr>\n",
       "  </thead>\n",
       "  <tbody>\n",
       "    <tr>\n",
       "      <th>0</th>\n",
       "      <td>KP281</td>\n",
       "      <td>80</td>\n",
       "      <td>44.444444</td>\n",
       "    </tr>\n",
       "    <tr>\n",
       "      <th>1</th>\n",
       "      <td>KP481</td>\n",
       "      <td>60</td>\n",
       "      <td>33.333333</td>\n",
       "    </tr>\n",
       "    <tr>\n",
       "      <th>2</th>\n",
       "      <td>KP781</td>\n",
       "      <td>40</td>\n",
       "      <td>22.222222</td>\n",
       "    </tr>\n",
       "  </tbody>\n",
       "</table>\n",
       "</div>"
      ],
      "text/plain": [
       "   index  count of product  product in %\n",
       "0  KP281                80     44.444444\n",
       "1  KP481                60     33.333333\n",
       "2  KP781                40     22.222222"
      ]
     },
     "execution_count": 39,
     "metadata": {},
     "output_type": "execute_result"
    }
   ],
   "source": [
    "productdf = aerofit['Product'].value_counts().reset_index()\n",
    "productdf.rename(columns = {'Product':'count of product'},inplace=True)\n",
    "productdf[\"product in %\"] = (productdf['count of product']/len(aerofit['Product']))*100\n",
    "productdf"
   ]
  },
  {
   "cell_type": "code",
   "execution_count": 40,
   "id": "17caff8f",
   "metadata": {},
   "outputs": [
    {
     "data": {
      "text/html": [
       "<div>\n",
       "<style scoped>\n",
       "    .dataframe tbody tr th:only-of-type {\n",
       "        vertical-align: middle;\n",
       "    }\n",
       "\n",
       "    .dataframe tbody tr th {\n",
       "        vertical-align: top;\n",
       "    }\n",
       "\n",
       "    .dataframe thead th {\n",
       "        text-align: right;\n",
       "    }\n",
       "</style>\n",
       "<table border=\"1\" class=\"dataframe\">\n",
       "  <thead>\n",
       "    <tr style=\"text-align: right;\">\n",
       "      <th></th>\n",
       "      <th>index</th>\n",
       "      <th>count of Gender</th>\n",
       "      <th>Gender in %</th>\n",
       "    </tr>\n",
       "  </thead>\n",
       "  <tbody>\n",
       "    <tr>\n",
       "      <th>0</th>\n",
       "      <td>Male</td>\n",
       "      <td>104</td>\n",
       "      <td>57.777778</td>\n",
       "    </tr>\n",
       "    <tr>\n",
       "      <th>1</th>\n",
       "      <td>Female</td>\n",
       "      <td>76</td>\n",
       "      <td>42.222222</td>\n",
       "    </tr>\n",
       "  </tbody>\n",
       "</table>\n",
       "</div>"
      ],
      "text/plain": [
       "    index  count of Gender  Gender in %\n",
       "0    Male              104    57.777778\n",
       "1  Female               76    42.222222"
      ]
     },
     "execution_count": 40,
     "metadata": {},
     "output_type": "execute_result"
    }
   ],
   "source": [
    "Genderdf = aerofit['Gender'].value_counts().reset_index()\n",
    "Genderdf.rename(columns = {'Gender':'count of Gender'},inplace=True)\n",
    "Genderdf[\"Gender in %\"] = (Genderdf['count of Gender']/len(aerofit['Gender']))*100\n",
    "Genderdf"
   ]
  },
  {
   "cell_type": "code",
   "execution_count": 41,
   "id": "1a6b9af0",
   "metadata": {},
   "outputs": [
    {
     "data": {
      "text/html": [
       "<div>\n",
       "<style scoped>\n",
       "    .dataframe tbody tr th:only-of-type {\n",
       "        vertical-align: middle;\n",
       "    }\n",
       "\n",
       "    .dataframe tbody tr th {\n",
       "        vertical-align: top;\n",
       "    }\n",
       "\n",
       "    .dataframe thead th {\n",
       "        text-align: right;\n",
       "    }\n",
       "</style>\n",
       "<table border=\"1\" class=\"dataframe\">\n",
       "  <thead>\n",
       "    <tr style=\"text-align: right;\">\n",
       "      <th></th>\n",
       "      <th>index</th>\n",
       "      <th>count of MaritalStatus</th>\n",
       "      <th>MaritalStatus in %</th>\n",
       "    </tr>\n",
       "  </thead>\n",
       "  <tbody>\n",
       "    <tr>\n",
       "      <th>0</th>\n",
       "      <td>Partnered</td>\n",
       "      <td>107</td>\n",
       "      <td>59.444444</td>\n",
       "    </tr>\n",
       "    <tr>\n",
       "      <th>1</th>\n",
       "      <td>Single</td>\n",
       "      <td>73</td>\n",
       "      <td>40.555556</td>\n",
       "    </tr>\n",
       "  </tbody>\n",
       "</table>\n",
       "</div>"
      ],
      "text/plain": [
       "       index  count of MaritalStatus  MaritalStatus in %\n",
       "0  Partnered                     107           59.444444\n",
       "1     Single                      73           40.555556"
      ]
     },
     "execution_count": 41,
     "metadata": {},
     "output_type": "execute_result"
    }
   ],
   "source": [
    "MaritalStatusdf = aerofit['MaritalStatus'].value_counts().reset_index()\n",
    "MaritalStatusdf.rename(columns = {'MaritalStatus':'count of MaritalStatus'},inplace=True)\n",
    "MaritalStatusdf[\"MaritalStatus in %\"] = (MaritalStatusdf['count of MaritalStatus']/len(aerofit['Gender']))*100\n",
    "MaritalStatusdf"
   ]
  },
  {
   "cell_type": "code",
   "execution_count": 42,
   "id": "7b2c4ecf",
   "metadata": {},
   "outputs": [
    {
     "data": {
      "image/png": "[encoded data removed]",
      "text/plain": [
       "<Figure size 1800x200 with 1 Axes>"
      ]
     },
     "metadata": {},
     "output_type": "display_data"
    },
    {
     "data": {
      "image/png": "[encoded data removed]",
      "text/plain": [
       "<Figure size 1800x200 with 1 Axes>"
      ]
     },
     "metadata": {},
     "output_type": "display_data"
    },
    {
     "data": {
      "image/png": "[encoded data removed]",
      "text/plain": [
       "<Figure size 1800x200 with 1 Axes>"
      ]
     },
     "metadata": {},
     "output_type": "display_data"
    }
   ],
   "source": [
    "figure,axis = plt.subplots(1, 1, figsize=(18,2))\n",
    "palette_color = sns.color_palette('PuBuGn')\n",
    "plt.title('Customer Distribution on the basis of Product',fontsize=10)\n",
    "plt.pie(productdf['count of product'], labels=productdf['index'],autopct='%.0f%%',colors=palette_color)\n",
    "\n",
    "figure,axis = plt.subplots(1, 1, figsize=(18,2))\n",
    "plt.title('Customer Distribution on the basis of Gender',fontsize=10)\n",
    "plt.pie(Genderdf['count of Gender'], labels=Genderdf['index'],autopct='%.0f%%',colors=palette_color)\n",
    "\n",
    "\n",
    "figure,axis = plt.subplots(1, 1, figsize=(18,2))\n",
    "plt.title('Customer Distribution on the basis of MaretialStatus',fontsize=10)\n",
    "plt.pie(MaritalStatusdf['count of MaritalStatus'], labels=MaritalStatusdf['index'],autopct='%.0f%%',colors=palette_color)\n",
    "\n",
    "plt.show()"
   ]
  },
  {
   "cell_type": "markdown",
   "id": "2df4a9c8",
   "metadata": {},
   "source": [
    "**Observation**\n",
    "- Product:\n",
    "- KP281 is used by 44 % of customers approx.\n",
    "- KP481 is used by 33 % of customers approx.\n",
    "- KP781 is used by 22 % of customers approx.\n",
    "- Gender:\n",
    "- 58% of customers are male\n",
    "- 42% of cusomers are female\n",
    "- MaretialStatus:\n",
    "- 59% of customers are partnered\n",
    "- 41% of customers are single"
   ]
  },
  {
   "cell_type": "markdown",
   "id": "113cfdd9",
   "metadata": {},
   "source": [
    "#### Check if features like marital status, age have any effect on the product purchased."
   ]
  },
  {
   "cell_type": "markdown",
   "id": "33b65cd5",
   "metadata": {},
   "source": [
    "# Bivariate Analysis"
   ]
  },
  {
   "cell_type": "markdown",
   "id": "5b7941d0",
   "metadata": {},
   "source": [
    "### Gender and MaritalStatus effect on the product . (categorical-Categorical)"
   ]
  },
  {
   "cell_type": "code",
   "execution_count": 84,
   "id": "5218a772",
   "metadata": {},
   "outputs": [
    {
     "data": {
      "image/png": "[encoded data removed]",
      "text/plain": [
       "<Figure size 1500x650 with 2 Axes>"
      ]
     },
     "metadata": {},
     "output_type": "display_data"
    }
   ],
   "source": [
    "attributes = ['Gender','MaritalStatus']\n",
    "fig.subplots_adjust(top=1.5)\n",
    "fig, axis = plt.subplots(1,2,figsize=(15, 6.5))\n",
    "count = 0\n",
    "for i in range(2):\n",
    "        sns.countplot(data=aerofit, x='Product',hue=attributes[count], ax=axis[i],edgecolor='0.25',palette='PuBuGn')\n",
    "        axis[i].set_title(f\"Product vs {attributes[count]} \", pad=12, fontsize=16)\n",
    "        count +=1"
   ]
  },
  {
   "cell_type": "markdown",
   "id": "b486cb09",
   "metadata": {},
   "source": [
    "**Observation**\n",
    "###### Product vs Gender:\n",
    "- KP281:\n",
    "- same number of male and female purchased.\n",
    "- KP481:\n",
    "- There is a minor difference between male and female customers\n",
    "- KP781:\n",
    "- There is a huge difference between the male and female customers\n",
    "- more male customer has purchased\n",
    "###### Product vs Marital Status:\n",
    "- In all three category of product, partnered customers is more than the single."
   ]
  },
  {
   "cell_type": "markdown",
   "id": "25e03b69",
   "metadata": {},
   "source": [
    "### Age, Education, Usage, Fitness, Income, Miles effect on the product . (categorical-Numerical)"
   ]
  },
  {
   "cell_type": "code",
   "execution_count": 80,
   "id": "1cc9f927",
   "metadata": {},
   "outputs": [
    {
     "data": {
      "image/png": "[encoded data removed]",
      "text/plain": [
       "<Figure size 1800x1200 with 6 Axes>"
      ]
     },
     "metadata": {},
     "output_type": "display_data"
    }
   ],
   "source": [
    "attributes = ['Age', 'Education', 'Usage', 'Fitness', 'Income', 'Miles']\n",
    "fig.subplots_adjust(top=1.5)\n",
    "fig, axis = plt.subplots(2, 3, figsize=(18, 12))\n",
    "count = 0\n",
    "for i in range(2):\n",
    "    for j in range(3):\n",
    "        sns.boxplot(data=aerofit, x='Product', y=attributes[count], ax=axis[i,j], palette='PuBuGn')\n",
    "        axis[i,j].set_title(f\"Product vs {attributes[count]}\", pad=12, fontsize=14)\n",
    "        count += 1"
   ]
  },
  {
   "cell_type": "markdown",
   "id": "222d44d8",
   "metadata": {},
   "source": [
    "**Observation**\n",
    "###### Product Vs Age:\n",
    "* The age range of customer purchased KP281 and KP481 is between 23 to 33 and both have the same median value\n",
    "* Customer purchased KP781 has the age range 25-30. we can see more outlier here.\n",
    "###### Product Vs Education:\n",
    "* customers having 14 to 16 years of education have purchased KP281 and  KP481.\n",
    "* customers having more than 16 years of education have purchased KP781 and  KP481.\n",
    "###### Product Vs Usages:\n",
    "* some customes who has decided to run 3 to 4 times have purchased KP281 and KP481.\n",
    "* customers who have decided to walk/run 4 or more than 4 times per week has purchased KP781.\n",
    "###### Product Vs Fitness:\n",
    "* customers who have selfrated 4 or more has purchased KP781.\n",
    "###### Product Vs Income:\n",
    "* customer having income between 40,000 to 55,000 (in dollar) have purchased KP281.\n",
    "* some customers haveing income between 45000 to 55000 (in dollar) have purchased KP481\n",
    "###### Product Vs Miles:\n",
    "* customers who have decided to run 70 miles to 90 mile per week has purchased KP281.\n",
    "* some customers who have decided to run 60 miles to 120 mile per week has purchased KP481.\n",
    "* customers who have decide to run more than 120 mile per week has purchased KP781."
   ]
  },
  {
   "cell_type": "markdown",
   "id": "ca11a87e",
   "metadata": {},
   "source": [
    "#### Check correlation among different factors using heat maps and pair plots."
   ]
  },
  {
   "cell_type": "code",
   "execution_count": 44,
   "id": "43f71bcb",
   "metadata": {},
   "outputs": [
    {
     "name": "stderr",
     "output_type": "stream",
     "text": [
      "/var/folders/57/m5hgcgf93mq4vlk6xhlrjy7r0000gn/T/ipykernel_2226/1840836322.py:1: FutureWarning: The default value of numeric_only in DataFrame.corr is deprecated. In a future version, it will default to False. Select only valid columns or specify the value of numeric_only to silence this warning.\n",
      "  aerofit.corr()\n"
     ]
    },
    {
     "data": {
      "text/html": [
       "<div>\n",
       "<style scoped>\n",
       "    .dataframe tbody tr th:only-of-type {\n",
       "        vertical-align: middle;\n",
       "    }\n",
       "\n",
       "    .dataframe tbody tr th {\n",
       "        vertical-align: top;\n",
       "    }\n",
       "\n",
       "    .dataframe thead th {\n",
       "        text-align: right;\n",
       "    }\n",
       "</style>\n",
       "<table border=\"1\" class=\"dataframe\">\n",
       "  <thead>\n",
       "    <tr style=\"text-align: right;\">\n",
       "      <th></th>\n",
       "      <th>Age</th>\n",
       "      <th>Education</th>\n",
       "      <th>Usage</th>\n",
       "      <th>Fitness</th>\n",
       "      <th>Income</th>\n",
       "      <th>Miles</th>\n",
       "    </tr>\n",
       "  </thead>\n",
       "  <tbody>\n",
       "    <tr>\n",
       "      <th>Age</th>\n",
       "      <td>1.000000</td>\n",
       "      <td>0.280496</td>\n",
       "      <td>0.015064</td>\n",
       "      <td>0.061105</td>\n",
       "      <td>0.513414</td>\n",
       "      <td>0.036618</td>\n",
       "    </tr>\n",
       "    <tr>\n",
       "      <th>Education</th>\n",
       "      <td>0.280496</td>\n",
       "      <td>1.000000</td>\n",
       "      <td>0.395155</td>\n",
       "      <td>0.410581</td>\n",
       "      <td>0.625827</td>\n",
       "      <td>0.307284</td>\n",
       "    </tr>\n",
       "    <tr>\n",
       "      <th>Usage</th>\n",
       "      <td>0.015064</td>\n",
       "      <td>0.395155</td>\n",
       "      <td>1.000000</td>\n",
       "      <td>0.668606</td>\n",
       "      <td>0.519537</td>\n",
       "      <td>0.759130</td>\n",
       "    </tr>\n",
       "    <tr>\n",
       "      <th>Fitness</th>\n",
       "      <td>0.061105</td>\n",
       "      <td>0.410581</td>\n",
       "      <td>0.668606</td>\n",
       "      <td>1.000000</td>\n",
       "      <td>0.535005</td>\n",
       "      <td>0.785702</td>\n",
       "    </tr>\n",
       "    <tr>\n",
       "      <th>Income</th>\n",
       "      <td>0.513414</td>\n",
       "      <td>0.625827</td>\n",
       "      <td>0.519537</td>\n",
       "      <td>0.535005</td>\n",
       "      <td>1.000000</td>\n",
       "      <td>0.543473</td>\n",
       "    </tr>\n",
       "    <tr>\n",
       "      <th>Miles</th>\n",
       "      <td>0.036618</td>\n",
       "      <td>0.307284</td>\n",
       "      <td>0.759130</td>\n",
       "      <td>0.785702</td>\n",
       "      <td>0.543473</td>\n",
       "      <td>1.000000</td>\n",
       "    </tr>\n",
       "  </tbody>\n",
       "</table>\n",
       "</div>"
      ],
      "text/plain": [
       "                Age  Education     Usage   Fitness    Income     Miles\n",
       "Age        1.000000   0.280496  0.015064  0.061105  0.513414  0.036618\n",
       "Education  0.280496   1.000000  0.395155  0.410581  0.625827  0.307284\n",
       "Usage      0.015064   0.395155  1.000000  0.668606  0.519537  0.759130\n",
       "Fitness    0.061105   0.410581  0.668606  1.000000  0.535005  0.785702\n",
       "Income     0.513414   0.625827  0.519537  0.535005  1.000000  0.543473\n",
       "Miles      0.036618   0.307284  0.759130  0.785702  0.543473  1.000000"
      ]
     },
     "execution_count": 44,
     "metadata": {},
     "output_type": "execute_result"
    }
   ],
   "source": [
    "aerofit.corr()"
   ]
  },
  {
   "cell_type": "code",
   "execution_count": 50,
   "id": "ad999cba",
   "metadata": {},
   "outputs": [
    {
     "name": "stderr",
     "output_type": "stream",
     "text": [
      "/var/folders/57/m5hgcgf93mq4vlk6xhlrjy7r0000gn/T/ipykernel_2226/3147371616.py:2: FutureWarning: The default value of numeric_only in DataFrame.corr is deprecated. In a future version, it will default to False. Select only valid columns or specify the value of numeric_only to silence this warning.\n",
      "  sns.heatmap(aerofit.corr(),annot=True)\n"
     ]
    },
    {
     "data": {
      "image/png": "[encoded data removed]",
      "text/plain": [
       "<Figure size 500x500 with 2 Axes>"
      ]
     },
     "metadata": {},
     "output_type": "display_data"
    }
   ],
   "source": [
    "plt.subplots(figsize=(5,5)) \n",
    "sns.heatmap(aerofit.corr(),annot=True) \n",
    "plt.show()"
   ]
  },
  {
   "cell_type": "code",
   "execution_count": 58,
   "id": "0dca838b",
   "metadata": {
    "scrolled": false
   },
   "outputs": [
    {
     "data": {
      "image/png": "[encoded data removed]",
      "text/plain": [
       "<Figure size 1500x1500 with 42 Axes>"
      ]
     },
     "metadata": {},
     "output_type": "display_data"
    }
   ],
   "source": [
    "sns.set_style(style='whitegrid')\n",
    "sns.pairplot(data=aerofit) \n",
    "plt.show()"
   ]
  },
  {
   "cell_type": "markdown",
   "id": "6b743749",
   "metadata": {},
   "source": [
    "**ObserVation**\n",
    "- This provides the relationship between differen categorical attributes with each other."
   ]
  },
  {
   "cell_type": "markdown",
   "id": "1a8bf2cc",
   "metadata": {},
   "source": [
    "# For each AeroFit treadmill product, construct two-way contingency tables "
   ]
  },
  {
   "cell_type": "markdown",
   "id": "88be7b51",
   "metadata": {},
   "source": [
    "##### Product with respect to Gender:"
   ]
  },
  {
   "cell_type": "code",
   "execution_count": 85,
   "id": "1bf6b4f6",
   "metadata": {},
   "outputs": [
    {
     "data": {
      "text/html": [
       "<div>\n",
       "<style scoped>\n",
       "    .dataframe tbody tr th:only-of-type {\n",
       "        vertical-align: middle;\n",
       "    }\n",
       "\n",
       "    .dataframe tbody tr th {\n",
       "        vertical-align: top;\n",
       "    }\n",
       "\n",
       "    .dataframe thead th {\n",
       "        text-align: right;\n",
       "    }\n",
       "</style>\n",
       "<table border=\"1\" class=\"dataframe\">\n",
       "  <thead>\n",
       "    <tr style=\"text-align: right;\">\n",
       "      <th>Product</th>\n",
       "      <th>KP281</th>\n",
       "      <th>KP481</th>\n",
       "      <th>KP781</th>\n",
       "    </tr>\n",
       "    <tr>\n",
       "      <th>Gender</th>\n",
       "      <th></th>\n",
       "      <th></th>\n",
       "      <th></th>\n",
       "    </tr>\n",
       "  </thead>\n",
       "  <tbody>\n",
       "    <tr>\n",
       "      <th>Female</th>\n",
       "      <td>40</td>\n",
       "      <td>29</td>\n",
       "      <td>7</td>\n",
       "    </tr>\n",
       "    <tr>\n",
       "      <th>Male</th>\n",
       "      <td>40</td>\n",
       "      <td>31</td>\n",
       "      <td>33</td>\n",
       "    </tr>\n",
       "  </tbody>\n",
       "</table>\n",
       "</div>"
      ],
      "text/plain": [
       "Product  KP281  KP481  KP781\n",
       "Gender                      \n",
       "Female      40     29      7\n",
       "Male        40     31     33"
      ]
     },
     "execution_count": 85,
     "metadata": {},
     "output_type": "execute_result"
    }
   ],
   "source": [
    "product_gender_df = pd.crosstab(index=aerofit['Gender'], columns=[aerofit['Product']])\n",
    "product_gender_df"
   ]
  },
  {
   "cell_type": "markdown",
   "id": "5584df15",
   "metadata": {},
   "source": [
    "##### Product with respect to MaritalStatus:"
   ]
  },
  {
   "cell_type": "code",
   "execution_count": 87,
   "id": "1465caa3",
   "metadata": {
    "scrolled": true
   },
   "outputs": [
    {
     "data": {
      "text/html": [
       "<div>\n",
       "<style scoped>\n",
       "    .dataframe tbody tr th:only-of-type {\n",
       "        vertical-align: middle;\n",
       "    }\n",
       "\n",
       "    .dataframe tbody tr th {\n",
       "        vertical-align: top;\n",
       "    }\n",
       "\n",
       "    .dataframe thead th {\n",
       "        text-align: right;\n",
       "    }\n",
       "</style>\n",
       "<table border=\"1\" class=\"dataframe\">\n",
       "  <thead>\n",
       "    <tr style=\"text-align: right;\">\n",
       "      <th>Product</th>\n",
       "      <th>KP281</th>\n",
       "      <th>KP481</th>\n",
       "      <th>KP781</th>\n",
       "    </tr>\n",
       "    <tr>\n",
       "      <th>MaritalStatus</th>\n",
       "      <th></th>\n",
       "      <th></th>\n",
       "      <th></th>\n",
       "    </tr>\n",
       "  </thead>\n",
       "  <tbody>\n",
       "    <tr>\n",
       "      <th>Partnered</th>\n",
       "      <td>48</td>\n",
       "      <td>36</td>\n",
       "      <td>23</td>\n",
       "    </tr>\n",
       "    <tr>\n",
       "      <th>Single</th>\n",
       "      <td>32</td>\n",
       "      <td>24</td>\n",
       "      <td>17</td>\n",
       "    </tr>\n",
       "  </tbody>\n",
       "</table>\n",
       "</div>"
      ],
      "text/plain": [
       "Product        KP281  KP481  KP781\n",
       "MaritalStatus                     \n",
       "Partnered         48     36     23\n",
       "Single            32     24     17"
      ]
     },
     "execution_count": 87,
     "metadata": {},
     "output_type": "execute_result"
    }
   ],
   "source": [
    "product_ms_df = pd.crosstab(index=aerofit['MaritalStatus'], columns=[aerofit['Product']])\n",
    "product_ms_df"
   ]
  },
  {
   "cell_type": "markdown",
   "id": "878d8337",
   "metadata": {},
   "source": [
    "##### Product with respect to Usage:"
   ]
  },
  {
   "cell_type": "code",
   "execution_count": 89,
   "id": "b9fc74d4",
   "metadata": {},
   "outputs": [
    {
     "data": {
      "text/html": [
       "<div>\n",
       "<style scoped>\n",
       "    .dataframe tbody tr th:only-of-type {\n",
       "        vertical-align: middle;\n",
       "    }\n",
       "\n",
       "    .dataframe tbody tr th {\n",
       "        vertical-align: top;\n",
       "    }\n",
       "\n",
       "    .dataframe thead th {\n",
       "        text-align: right;\n",
       "    }\n",
       "</style>\n",
       "<table border=\"1\" class=\"dataframe\">\n",
       "  <thead>\n",
       "    <tr style=\"text-align: right;\">\n",
       "      <th>Product</th>\n",
       "      <th>KP281</th>\n",
       "      <th>KP481</th>\n",
       "      <th>KP781</th>\n",
       "    </tr>\n",
       "    <tr>\n",
       "      <th>Usage</th>\n",
       "      <th></th>\n",
       "      <th></th>\n",
       "      <th></th>\n",
       "    </tr>\n",
       "  </thead>\n",
       "  <tbody>\n",
       "    <tr>\n",
       "      <th>2</th>\n",
       "      <td>19</td>\n",
       "      <td>14</td>\n",
       "      <td>0</td>\n",
       "    </tr>\n",
       "    <tr>\n",
       "      <th>3</th>\n",
       "      <td>37</td>\n",
       "      <td>31</td>\n",
       "      <td>1</td>\n",
       "    </tr>\n",
       "    <tr>\n",
       "      <th>4</th>\n",
       "      <td>22</td>\n",
       "      <td>12</td>\n",
       "      <td>18</td>\n",
       "    </tr>\n",
       "    <tr>\n",
       "      <th>5</th>\n",
       "      <td>2</td>\n",
       "      <td>3</td>\n",
       "      <td>12</td>\n",
       "    </tr>\n",
       "    <tr>\n",
       "      <th>6</th>\n",
       "      <td>0</td>\n",
       "      <td>0</td>\n",
       "      <td>7</td>\n",
       "    </tr>\n",
       "    <tr>\n",
       "      <th>7</th>\n",
       "      <td>0</td>\n",
       "      <td>0</td>\n",
       "      <td>2</td>\n",
       "    </tr>\n",
       "  </tbody>\n",
       "</table>\n",
       "</div>"
      ],
      "text/plain": [
       "Product  KP281  KP481  KP781\n",
       "Usage                       \n",
       "2           19     14      0\n",
       "3           37     31      1\n",
       "4           22     12     18\n",
       "5            2      3     12\n",
       "6            0      0      7\n",
       "7            0      0      2"
      ]
     },
     "execution_count": 89,
     "metadata": {},
     "output_type": "execute_result"
    }
   ],
   "source": [
    "product_usage_df = pd.crosstab(index=aerofit['Usage'], columns=[aerofit['Product']])\n",
    "product_usage_df"
   ]
  },
  {
   "cell_type": "markdown",
   "id": "8b1654c2",
   "metadata": {},
   "source": [
    "##### Product with respect to Fitness:"
   ]
  },
  {
   "cell_type": "code",
   "execution_count": 90,
   "id": "efa9409b",
   "metadata": {},
   "outputs": [
    {
     "data": {
      "text/html": [
       "<div>\n",
       "<style scoped>\n",
       "    .dataframe tbody tr th:only-of-type {\n",
       "        vertical-align: middle;\n",
       "    }\n",
       "\n",
       "    .dataframe tbody tr th {\n",
       "        vertical-align: top;\n",
       "    }\n",
       "\n",
       "    .dataframe thead th {\n",
       "        text-align: right;\n",
       "    }\n",
       "</style>\n",
       "<table border=\"1\" class=\"dataframe\">\n",
       "  <thead>\n",
       "    <tr style=\"text-align: right;\">\n",
       "      <th>Product</th>\n",
       "      <th>KP281</th>\n",
       "      <th>KP481</th>\n",
       "      <th>KP781</th>\n",
       "    </tr>\n",
       "    <tr>\n",
       "      <th>Fitness</th>\n",
       "      <th></th>\n",
       "      <th></th>\n",
       "      <th></th>\n",
       "    </tr>\n",
       "  </thead>\n",
       "  <tbody>\n",
       "    <tr>\n",
       "      <th>1</th>\n",
       "      <td>1</td>\n",
       "      <td>1</td>\n",
       "      <td>0</td>\n",
       "    </tr>\n",
       "    <tr>\n",
       "      <th>2</th>\n",
       "      <td>14</td>\n",
       "      <td>12</td>\n",
       "      <td>0</td>\n",
       "    </tr>\n",
       "    <tr>\n",
       "      <th>3</th>\n",
       "      <td>54</td>\n",
       "      <td>39</td>\n",
       "      <td>4</td>\n",
       "    </tr>\n",
       "    <tr>\n",
       "      <th>4</th>\n",
       "      <td>9</td>\n",
       "      <td>8</td>\n",
       "      <td>7</td>\n",
       "    </tr>\n",
       "    <tr>\n",
       "      <th>5</th>\n",
       "      <td>2</td>\n",
       "      <td>0</td>\n",
       "      <td>29</td>\n",
       "    </tr>\n",
       "  </tbody>\n",
       "</table>\n",
       "</div>"
      ],
      "text/plain": [
       "Product  KP281  KP481  KP781\n",
       "Fitness                     \n",
       "1            1      1      0\n",
       "2           14     12      0\n",
       "3           54     39      4\n",
       "4            9      8      7\n",
       "5            2      0     29"
      ]
     },
     "execution_count": 90,
     "metadata": {},
     "output_type": "execute_result"
    }
   ],
   "source": [
    "product_fitness_df = pd.crosstab(index=aerofit['Fitness'], columns=[aerofit['Product']])\n",
    "product_fitness_df"
   ]
  },
  {
   "cell_type": "markdown",
   "id": "fcb1e4e8",
   "metadata": {},
   "source": [
    "##### Product with respect to Education:"
   ]
  },
  {
   "cell_type": "code",
   "execution_count": 146,
   "id": "0e70bdcc",
   "metadata": {},
   "outputs": [
    {
     "data": {
      "text/html": [
       "<div>\n",
       "<style scoped>\n",
       "    .dataframe tbody tr th:only-of-type {\n",
       "        vertical-align: middle;\n",
       "    }\n",
       "\n",
       "    .dataframe tbody tr th {\n",
       "        vertical-align: top;\n",
       "    }\n",
       "\n",
       "    .dataframe thead th {\n",
       "        text-align: right;\n",
       "    }\n",
       "</style>\n",
       "<table border=\"1\" class=\"dataframe\">\n",
       "  <thead>\n",
       "    <tr style=\"text-align: right;\">\n",
       "      <th>Product</th>\n",
       "      <th>KP281</th>\n",
       "      <th>KP481</th>\n",
       "      <th>KP781</th>\n",
       "    </tr>\n",
       "    <tr>\n",
       "      <th>Education</th>\n",
       "      <th></th>\n",
       "      <th></th>\n",
       "      <th></th>\n",
       "    </tr>\n",
       "  </thead>\n",
       "  <tbody>\n",
       "    <tr>\n",
       "      <th>12</th>\n",
       "      <td>2</td>\n",
       "      <td>1</td>\n",
       "      <td>0</td>\n",
       "    </tr>\n",
       "    <tr>\n",
       "      <th>13</th>\n",
       "      <td>3</td>\n",
       "      <td>2</td>\n",
       "      <td>0</td>\n",
       "    </tr>\n",
       "    <tr>\n",
       "      <th>14</th>\n",
       "      <td>30</td>\n",
       "      <td>23</td>\n",
       "      <td>2</td>\n",
       "    </tr>\n",
       "    <tr>\n",
       "      <th>15</th>\n",
       "      <td>4</td>\n",
       "      <td>1</td>\n",
       "      <td>0</td>\n",
       "    </tr>\n",
       "    <tr>\n",
       "      <th>16</th>\n",
       "      <td>39</td>\n",
       "      <td>31</td>\n",
       "      <td>15</td>\n",
       "    </tr>\n",
       "    <tr>\n",
       "      <th>18</th>\n",
       "      <td>2</td>\n",
       "      <td>2</td>\n",
       "      <td>19</td>\n",
       "    </tr>\n",
       "    <tr>\n",
       "      <th>20</th>\n",
       "      <td>0</td>\n",
       "      <td>0</td>\n",
       "      <td>1</td>\n",
       "    </tr>\n",
       "    <tr>\n",
       "      <th>21</th>\n",
       "      <td>0</td>\n",
       "      <td>0</td>\n",
       "      <td>3</td>\n",
       "    </tr>\n",
       "  </tbody>\n",
       "</table>\n",
       "</div>"
      ],
      "text/plain": [
       "Product    KP281  KP481  KP781\n",
       "Education                     \n",
       "12             2      1      0\n",
       "13             3      2      0\n",
       "14            30     23      2\n",
       "15             4      1      0\n",
       "16            39     31     15\n",
       "18             2      2     19\n",
       "20             0      0      1\n",
       "21             0      0      3"
      ]
     },
     "execution_count": 146,
     "metadata": {},
     "output_type": "execute_result"
    }
   ],
   "source": [
    "product_edu_df = pd.crosstab(index=aerofit['Education'], columns=[aerofit['Product']])\n",
    "product_edu_df"
   ]
  },
  {
   "cell_type": "markdown",
   "id": "ae54e501",
   "metadata": {},
   "source": [
    "# Calculation of Marginal , Conditional  Probabilities"
   ]
  },
  {
   "cell_type": "markdown",
   "id": "4268571b",
   "metadata": {},
   "source": [
    "###### Calculate the Marginal probability of different types of Gender for three types of product ? \n",
    "###### Calculate the  probability of three types of product when the gender is konwn (conditional Probability)"
   ]
  },
  {
   "cell_type": "code",
   "execution_count": 112,
   "id": "1ccf5dd8",
   "metadata": {},
   "outputs": [
    {
     "name": "stdout",
     "output_type": "stream",
     "text": [
      "Marginal probability for different type of Gender are below:\n",
      "\n",
      "\n",
      "P(Male): 0.58\n",
      "P(Female): 0.42\n",
      "\n",
      "\n",
      "\n",
      "Conditional probability for different type of product in given gender is Male below:\n",
      "\n",
      "\n",
      "P(KP781|Male): 0.32\n",
      "P(KP481|Male): 0.30\n",
      "P(KP281|Male): 0.38\n",
      "\n",
      "\n",
      "\n",
      "Conditional probability for different type of product in given gender is Female below:\n",
      "\n",
      "\n",
      "P(KP781|Female): 0.09\n",
      "P(KP481|Female): 0.38\n",
      "P(KP281|Female): 0.53\n",
      "\n"
     ]
    }
   ],
   "source": [
    "def p_prod_given_gender(gender, print_marginal=False):\n",
    "    \n",
    "    p_781 = product_gender_df['KP781'][gender] / product_gender_df.loc[gender].sum()\n",
    "    p_481 = product_gender_df['KP481'][gender] / product_gender_df.loc[gender].sum()\n",
    "    p_281 = product_gender_df['KP281'][gender] / product_gender_df.loc[gender].sum()\n",
    "    \n",
    "    if print_marginal:\n",
    "        print(\"Marginal probability for different type of Gender are below:\")\n",
    "        print(\"\\n\")\n",
    "        print(f\"P(Male): {product_gender_df.loc['Male'].sum()/len(aerofit):.2f}\")\n",
    "        print(f\"P(Female): {product_gender_df.loc['Female'].sum()/len(aerofit):.2f}\\n\")\n",
    "    print(\"\\n\")\n",
    "    print(f\"Conditional probability for different type of product in given gender is {gender} below:\")\n",
    "    print(\"\\n\")\n",
    "    print(f\"P(KP781|{gender}): {p_781:.2f}\")\n",
    "    print(f\"P(KP481|{gender}): {p_481:.2f}\")\n",
    "    print(f\"P(KP281|{gender}): {p_281:.2f}\\n\")\n",
    "    \n",
    "p_prod_given_gender('Male', True)\n",
    "p_prod_given_gender('Female')"
   ]
  },
  {
   "cell_type": "markdown",
   "id": "ff7b332b",
   "metadata": {},
   "source": [
    "###### Calculate the Marginal probability of different types of Marital Status for three types of product ? \n",
    "###### Calculate the  probability of three types of product when the Marital Status is konwn (conditional Probability)"
   ]
  },
  {
   "cell_type": "code",
   "execution_count": 120,
   "id": "7d56fb79",
   "metadata": {},
   "outputs": [
    {
     "name": "stdout",
     "output_type": "stream",
     "text": [
      "Marginal probability for different type of marital status are below:\n",
      "\n",
      "\n",
      "P(Single): 0.41\n",
      "P(Partnered): 0.59\n",
      "\n",
      "\n",
      "\n",
      "Conditional probability for different type of product in given maritalstatus is Single below:\n",
      "\n",
      "\n",
      "P(KP781|Single): 0.23\n",
      "P(KP481|Single): 0.33\n",
      "P(KP281|Single): 0.44\n",
      "\n",
      "\n",
      "\n",
      "Conditional probability for different type of product in given maritalstatus is Partnered below:\n",
      "\n",
      "\n",
      "P(KP781|Partnered): 0.21\n",
      "P(KP481|Partnered): 0.34\n",
      "P(KP281|Partnered): 0.45\n",
      "\n"
     ]
    }
   ],
   "source": [
    "def p_prod_given_mstatus(status, print_marginal=False):\n",
    "    \n",
    "    p_781 = product_ms_df['KP781'][status] / product_ms_df.loc[status].sum()\n",
    "    p_481 = product_ms_df['KP481'][status] / product_ms_df.loc[status].sum()\n",
    "    p_281 = product_ms_df['KP281'][status] / product_ms_df.loc[status].sum()\n",
    "    \n",
    "    if print_marginal:\n",
    "        print(\"Marginal probability for different type of marital status are below:\")\n",
    "        print(\"\\n\")\n",
    "        print(f\"P(Single): {product_ms_df.loc['Single'].sum()/len(aerofit):.2f}\")\n",
    "        print(f\"P(Partnered): {product_ms_df.loc['Partnered'].sum()/len(aerofit):.2f}\\n\")\n",
    "    print(\"\\n\")\n",
    "    print(f\"Conditional probability for different type of product in given maritalstatus is {status} below:\")\n",
    "    print(\"\\n\")\n",
    "    print(f\"P(KP781|{status}): {p_781:.2f}\")\n",
    "    print(f\"P(KP481|{status}): {p_481:.2f}\")\n",
    "    print(f\"P(KP281|{status}): {p_281:.2f}\\n\")\n",
    "    \n",
    "p_prod_given_mstatus('Single', True)\n",
    "p_prod_given_mstatus('Partnered')\n"
   ]
  },
  {
   "cell_type": "markdown",
   "id": "1a6687c3",
   "metadata": {},
   "source": [
    "###### Calculate the Marginal probability of different types of usage for three types of product ? \n",
    "###### Calculate the  probability of three types of product when the usage is konwn (conditional Probability)"
   ]
  },
  {
   "cell_type": "code",
   "execution_count": 128,
   "id": "180cd546",
   "metadata": {
    "scrolled": false
   },
   "outputs": [
    {
     "name": "stdout",
     "output_type": "stream",
     "text": [
      "Marginal probability for different type of marital status are below:\n",
      "\n",
      "\n",
      "P(2): 0.18\n",
      "P(3): 0.38\n",
      "\n",
      "P(4): 0.29\n",
      "P(5): 0.09\n",
      "\n",
      "P(6): 0.04\n",
      "P(7): 0.01\n",
      "\n",
      "\n",
      "\n",
      "Conditional probability for different type of product given that customer have decided usages per week is 2 below:\n",
      "\n",
      "\n",
      "P(KP781|2): 0.00\n",
      "P(KP481|2): 0.42\n",
      "P(KP281|2): 0.58\n",
      "\n",
      "\n",
      "\n",
      "Conditional probability for different type of product given that customer have decided usages per week is 3 below:\n",
      "\n",
      "\n",
      "P(KP781|3): 0.01\n",
      "P(KP481|3): 0.45\n",
      "P(KP281|3): 0.54\n",
      "\n",
      "\n",
      "\n",
      "Conditional probability for different type of product given that customer have decided usages per week is 4 below:\n",
      "\n",
      "\n",
      "P(KP781|4): 0.35\n",
      "P(KP481|4): 0.23\n",
      "P(KP281|4): 0.42\n",
      "\n",
      "\n",
      "\n",
      "Conditional probability for different type of product given that customer have decided usages per week is 5 below:\n",
      "\n",
      "\n",
      "P(KP781|5): 0.71\n",
      "P(KP481|5): 0.18\n",
      "P(KP281|5): 0.12\n",
      "\n",
      "\n",
      "\n",
      "Conditional probability for different type of product given that customer have decided usages per week is 6 below:\n",
      "\n",
      "\n",
      "P(KP781|6): 1.00\n",
      "P(KP481|6): 0.00\n",
      "P(KP281|6): 0.00\n",
      "\n",
      "\n",
      "\n",
      "Conditional probability for different type of product given that customer have decided usages per week is 7 below:\n",
      "\n",
      "\n",
      "P(KP781|7): 1.00\n",
      "P(KP481|7): 0.00\n",
      "P(KP281|7): 0.00\n",
      "\n"
     ]
    }
   ],
   "source": [
    "def p_prod_given_usage(usage, print_marginal=False):\n",
    "    \n",
    "    p_781 = product_usage_df['KP781'][usage] / product_usage_df.loc[usage].sum()\n",
    "    p_481 = product_usage_df['KP481'][usage] / product_usage_df.loc[usage].sum()\n",
    "    p_281 = product_usage_df['KP281'][usage] / product_usage_df.loc[usage].sum()\n",
    "    \n",
    "    if print_marginal:\n",
    "        print(\"Marginal probability for different type of marital status are below:\")\n",
    "        print(\"\\n\")\n",
    "        print(f\"P(2): {product_usage_df.loc[2].sum()/len(aerofit):.2f}\")\n",
    "        print(f\"P(3): {product_usage_df.loc[3].sum()/len(aerofit):.2f}\\n\")\n",
    "        print(f\"P(4): {product_usage_df.loc[4].sum()/len(aerofit):.2f}\")\n",
    "        print(f\"P(5): {product_usage_df.loc[5].sum()/len(aerofit):.2f}\\n\")\n",
    "        print(f\"P(6): {product_usage_df.loc[6].sum()/len(aerofit):.2f}\")\n",
    "        print(f\"P(7): {product_usage_df.loc[7].sum()/len(aerofit):.2f}\\n\")\n",
    "    print(\"\\n\")\n",
    "    print(f\"Conditional probability for different type of product given that customer have decided usages per week is {usage} below:\")\n",
    "    print(\"\\n\")\n",
    "    print(f\"P(KP781|{usage}): {p_781:.2f}\")\n",
    "    print(f\"P(KP481|{usage}): {p_481:.2f}\")\n",
    "    print(f\"P(KP281|{usage}): {p_281:.2f}\\n\")\n",
    "    \n",
    "p_prod_given_usage(2,True)\n",
    "p_prod_given_usage(3)\n",
    "p_prod_given_usage(4)\n",
    "p_prod_given_usage(5)\n",
    "p_prod_given_usage(6)\n",
    "p_prod_given_usage(7)"
   ]
  },
  {
   "cell_type": "markdown",
   "id": "53ca3c2e",
   "metadata": {},
   "source": [
    "###### Calculate the Marginal probability of different types of fitness for three types of product ? \n",
    "###### Calculate the  probability of three types of product when the fitness is konwn (conditional Probability)?"
   ]
  },
  {
   "cell_type": "code",
   "execution_count": 151,
   "id": "49aec1f6",
   "metadata": {},
   "outputs": [
    {
     "name": "stdout",
     "output_type": "stream",
     "text": [
      "Marginal probability for different type of fitness are below:\n",
      "\n",
      "\n",
      "P(1): 0.01\n",
      "P(2): 0.14\n",
      "\n",
      "P(3): 0.54\n",
      "P(4): 0.13\n",
      "\n",
      "P(5): 0.17\n",
      "\n",
      "\n",
      "Conditional probability for different type of product given that customer have rated fitness  is 1 below:\n",
      "\n",
      "\n",
      "P(KP781|1): 0.00\n",
      "P(KP481|1): 0.50\n",
      "P(KP281|1): 0.50\n",
      "\n",
      "\n",
      "\n",
      "Conditional probability for different type of product given that customer have rated fitness  is 2 below:\n",
      "\n",
      "\n",
      "P(KP781|2): 0.00\n",
      "P(KP481|2): 0.46\n",
      "P(KP281|2): 0.54\n",
      "\n",
      "\n",
      "\n",
      "Conditional probability for different type of product given that customer have rated fitness  is 3 below:\n",
      "\n",
      "\n",
      "P(KP781|3): 0.04\n",
      "P(KP481|3): 0.40\n",
      "P(KP281|3): 0.56\n",
      "\n",
      "\n",
      "\n",
      "Conditional probability for different type of product given that customer have rated fitness  is 4 below:\n",
      "\n",
      "\n",
      "P(KP781|4): 0.29\n",
      "P(KP481|4): 0.33\n",
      "P(KP281|4): 0.38\n",
      "\n",
      "\n",
      "\n",
      "Conditional probability for different type of product given that customer have rated fitness  is 5 below:\n",
      "\n",
      "\n",
      "P(KP781|5): 0.94\n",
      "P(KP481|5): 0.00\n",
      "P(KP281|5): 0.06\n",
      "\n"
     ]
    }
   ],
   "source": [
    "def p_prod_given_fitness(fitness, print_marginal=False):\n",
    "    \n",
    "    p_781 = product_fitness_df['KP781'][fitness] / product_fitness_df.loc[fitness].sum()\n",
    "    p_481 = product_fitness_df['KP481'][fitness] / product_fitness_df.loc[fitness].sum()\n",
    "    p_281 = product_fitness_df['KP281'][fitness] / product_fitness_df.loc[fitness].sum()\n",
    "    \n",
    "    if print_marginal:\n",
    "        print(\"Marginal probability for different type of fitness are below:\")\n",
    "        print(\"\\n\")\n",
    "        print(f\"P(1): {product_fitness_df.loc[1].sum()/len(aerofit):.2f}\")\n",
    "        print(f\"P(2): {product_fitness_df.loc[2].sum()/len(aerofit):.2f}\\n\")\n",
    "        print(f\"P(3): {product_fitness_df.loc[3].sum()/len(aerofit):.2f}\")\n",
    "        print(f\"P(4): {product_fitness_df.loc[4].sum()/len(aerofit):.2f}\\n\")\n",
    "        print(f\"P(5): {product_fitness_df.loc[5].sum()/len(aerofit):.2f}\")\n",
    "    print(\"\\n\")\n",
    "    print(f\"Conditional probability for different type of product given that customer have rated fitness  is {fitness} below:\")\n",
    "    print(\"\\n\")\n",
    "    print(f\"P(KP781|{fitness}): {p_781:.2f}\")\n",
    "    print(f\"P(KP481|{fitness}): {p_481:.2f}\")\n",
    "    print(f\"P(KP281|{fitness}): {p_281:.2f}\\n\")\n",
    "    \n",
    "p_prod_given_fitness(1,True)\n",
    "p_prod_given_fitness(2)\n",
    "p_prod_given_fitness(3)\n",
    "p_prod_given_fitness(4)\n",
    "p_prod_given_fitness(5)"
   ]
  },
  {
   "cell_type": "markdown",
   "id": "2a478220",
   "metadata": {},
   "source": [
    "###### Calculate the Marginal probability of different types of education for three types of product ? \n",
    "###### Calculate the  probability of three types of product when the education is konwn (conditional Probability)?"
   ]
  },
  {
   "cell_type": "code",
   "execution_count": 154,
   "id": "a80fad83",
   "metadata": {},
   "outputs": [
    {
     "name": "stdout",
     "output_type": "stream",
     "text": [
      "Marginal probability for different type of Education are below:\n",
      "\n",
      "\n",
      "P(12): 0.02\n",
      "P(13): 0.03\n",
      "\n",
      "P(14): 0.31\n",
      "P(15): 0.03\n",
      "\n",
      "P(16): 0.47\n",
      "P(18): 0.13\n",
      "P(20): 0.01\n",
      "P(21): 0.02\n",
      "\n",
      "\n",
      "Conditional probability for different type of product given that customer Education  is 12 below:\n",
      "\n",
      "\n",
      "P(KP781|12): 0.00\n",
      "P(KP481|12): 0.33\n",
      "P(KP281|12): 0.67\n",
      "\n",
      "\n",
      "\n",
      "Conditional probability for different type of product given that customer Education  is 13 below:\n",
      "\n",
      "\n",
      "P(KP781|13): 0.00\n",
      "P(KP481|13): 0.40\n",
      "P(KP281|13): 0.60\n",
      "\n",
      "\n",
      "\n",
      "Conditional probability for different type of product given that customer Education  is 14 below:\n",
      "\n",
      "\n",
      "P(KP781|14): 0.04\n",
      "P(KP481|14): 0.42\n",
      "P(KP281|14): 0.55\n",
      "\n",
      "\n",
      "\n",
      "Conditional probability for different type of product given that customer Education  is 15 below:\n",
      "\n",
      "\n",
      "P(KP781|15): 0.00\n",
      "P(KP481|15): 0.20\n",
      "P(KP281|15): 0.80\n",
      "\n",
      "\n",
      "\n",
      "Conditional probability for different type of product given that customer Education  is 16 below:\n",
      "\n",
      "\n",
      "P(KP781|16): 0.18\n",
      "P(KP481|16): 0.36\n",
      "P(KP281|16): 0.46\n",
      "\n",
      "\n",
      "\n",
      "Conditional probability for different type of product given that customer Education  is 18 below:\n",
      "\n",
      "\n",
      "P(KP781|18): 0.83\n",
      "P(KP481|18): 0.09\n",
      "P(KP281|18): 0.09\n",
      "\n",
      "\n",
      "\n",
      "Conditional probability for different type of product given that customer Education  is 20 below:\n",
      "\n",
      "\n",
      "P(KP781|20): 1.00\n",
      "P(KP481|20): 0.00\n",
      "P(KP281|20): 0.00\n",
      "\n",
      "\n",
      "\n",
      "Conditional probability for different type of product given that customer Education  is 21 below:\n",
      "\n",
      "\n",
      "P(KP781|21): 1.00\n",
      "P(KP481|21): 0.00\n",
      "P(KP281|21): 0.00\n",
      "\n"
     ]
    }
   ],
   "source": [
    "def p_prod_given_edu(edu, print_marginal=False):\n",
    "    \n",
    "    p_781 = product_edu_df['KP781'][edu] / product_edu_df.loc[edu].sum()\n",
    "    p_481 = product_edu_df['KP481'][edu] / product_edu_df.loc[edu].sum()\n",
    "    p_281 = product_edu_df['KP281'][edu] / product_edu_df.loc[edu].sum()\n",
    "    \n",
    "    if print_marginal:\n",
    "        print(\"Marginal probability for different type of Education are below:\")\n",
    "        print(\"\\n\")\n",
    "        print(f\"P(12): {product_edu_df.loc[12].sum()/len(aerofit):.2f}\")\n",
    "        print(f\"P(13): {product_edu_df.loc[13].sum()/len(aerofit):.2f}\\n\")\n",
    "        print(f\"P(14): {product_edu_df.loc[14].sum()/len(aerofit):.2f}\")\n",
    "        print(f\"P(15): {product_edu_df.loc[15].sum()/len(aerofit):.2f}\\n\")\n",
    "        print(f\"P(16): {product_edu_df.loc[16].sum()/len(aerofit):.2f}\")\n",
    "        print(f\"P(18): {product_edu_df.loc[18].sum()/len(aerofit):.2f}\")\n",
    "        print(f\"P(20): {product_edu_df.loc[20].sum()/len(aerofit):.2f}\")\n",
    "        print(f\"P(21): {product_edu_df.loc[21].sum()/len(aerofit):.2f}\")\n",
    "    print(\"\\n\")\n",
    "    print(f\"Conditional probability for different type of product given that customer Education  is {edu} below:\")\n",
    "    print(\"\\n\")\n",
    "    print(f\"P(KP781|{edu}): {p_781:.2f}\")\n",
    "    print(f\"P(KP481|{edu}): {p_481:.2f}\")\n",
    "    print(f\"P(KP281|{edu}): {p_281:.2f}\\n\")\n",
    "    \n",
    "p_prod_given_edu(12,True)\n",
    "p_prod_given_edu(13)\n",
    "p_prod_given_edu(14)\n",
    "p_prod_given_edu(15)\n",
    "p_prod_given_edu(16)\n",
    "p_prod_given_edu(18)\n",
    "p_prod_given_edu(20)\n",
    "p_prod_given_edu(21)"
   ]
  },
  {
   "cell_type": "markdown",
   "id": "671fea39",
   "metadata": {},
   "source": [
    "###### Calculate the Marginal probability of different types of age range  for three types of product ? \n",
    "###### Calculate the  probability of three types of product when the age between 25-30 is konwn (conditional Probability)?"
   ]
  },
  {
   "cell_type": "code",
   "execution_count": 260,
   "id": "61e188d5",
   "metadata": {},
   "outputs": [],
   "source": [
    "# lets add a column mile_range and devide income in three category high,medium and low\n",
    "Age_range=[]\n",
    "for i in  aerofit[\"Age\"]:\n",
    "    if i < 35:\n",
    "        Age_range.append('Young')\n",
    "    elif i >=50:\n",
    "        Age_range.append('Old')\n",
    "    else:\n",
    "        Age_range.append('Middle')\n",
    "    \n",
    "  \n",
    "aerofit[\"Age_range\"]= Age_range"
   ]
  },
  {
   "cell_type": "code",
   "execution_count": 261,
   "id": "d7f2fad9",
   "metadata": {},
   "outputs": [
    {
     "data": {
      "text/html": [
       "<div>\n",
       "<style scoped>\n",
       "    .dataframe tbody tr th:only-of-type {\n",
       "        vertical-align: middle;\n",
       "    }\n",
       "\n",
       "    .dataframe tbody tr th {\n",
       "        vertical-align: top;\n",
       "    }\n",
       "\n",
       "    .dataframe thead th {\n",
       "        text-align: right;\n",
       "    }\n",
       "</style>\n",
       "<table border=\"1\" class=\"dataframe\">\n",
       "  <thead>\n",
       "    <tr style=\"text-align: right;\">\n",
       "      <th>Product</th>\n",
       "      <th>KP281</th>\n",
       "      <th>KP481</th>\n",
       "      <th>KP781</th>\n",
       "    </tr>\n",
       "    <tr>\n",
       "      <th>Age_range</th>\n",
       "      <th></th>\n",
       "      <th></th>\n",
       "      <th></th>\n",
       "    </tr>\n",
       "  </thead>\n",
       "  <tbody>\n",
       "    <tr>\n",
       "      <th>Middle</th>\n",
       "      <td>16</td>\n",
       "      <td>12</td>\n",
       "      <td>7</td>\n",
       "    </tr>\n",
       "    <tr>\n",
       "      <th>Old</th>\n",
       "      <td>1</td>\n",
       "      <td>0</td>\n",
       "      <td>0</td>\n",
       "    </tr>\n",
       "    <tr>\n",
       "      <th>Young</th>\n",
       "      <td>63</td>\n",
       "      <td>48</td>\n",
       "      <td>33</td>\n",
       "    </tr>\n",
       "  </tbody>\n",
       "</table>\n",
       "</div>"
      ],
      "text/plain": [
       "Product    KP281  KP481  KP781\n",
       "Age_range                     \n",
       "Middle        16     12      7\n",
       "Old            1      0      0\n",
       "Young         63     48     33"
      ]
     },
     "execution_count": 261,
     "metadata": {},
     "output_type": "execute_result"
    }
   ],
   "source": [
    "product_age_df = pd.crosstab(index=aerofit['Age_range'], columns=[aerofit['Product']])\n",
    "product_age_df"
   ]
  },
  {
   "cell_type": "code",
   "execution_count": 265,
   "id": "eeb56683",
   "metadata": {},
   "outputs": [
    {
     "name": "stdout",
     "output_type": "stream",
     "text": [
      "Marginal probability for different type of age are below:\n",
      "\n",
      "\n",
      "P(Young): 0.80\n",
      "P(Old): 0.01\n",
      "\n",
      "P(Middle): 0.19\n",
      "\n",
      "\n",
      "Conditional probability for different type of product given that customer age is Young below:\n",
      "\n",
      "\n",
      "P(KP781|Young): 0.23\n",
      "P(KP481|Young): 0.33\n",
      "P(KP281|Young): 0.44\n",
      "\n",
      "\n",
      "\n",
      "Conditional probability for different type of product given that customer age is Old below:\n",
      "\n",
      "\n",
      "P(KP781|Old): 0.00\n",
      "P(KP481|Old): 0.00\n",
      "P(KP281|Old): 1.00\n",
      "\n",
      "\n",
      "\n",
      "Conditional probability for different type of product given that customer age is Middle below:\n",
      "\n",
      "\n",
      "P(KP781|Middle): 0.20\n",
      "P(KP481|Middle): 0.34\n",
      "P(KP281|Middle): 0.46\n",
      "\n"
     ]
    }
   ],
   "source": [
    "def p_prod_given_age(age, print_marginal=False):\n",
    "    \n",
    "    p_781 = product_age_df['KP781'][age] / product_age_df.loc[age].sum()\n",
    "    p_481 = product_age_df['KP481'][age] / product_age_df.loc[age].sum()\n",
    "    p_281 = product_age_df['KP281'][age] / product_age_df.loc[age].sum()\n",
    "    \n",
    "    if print_marginal:\n",
    "        print(\"Marginal probability for different type of age are below:\")\n",
    "        print(\"\\n\")\n",
    "        print(f\"P(Young): {product_age_df.loc['Young'].sum()/len(aerofit):.2f}\")\n",
    "        print(f\"P(Old): {product_age_df.loc['Old'].sum()/len(aerofit):.2f}\\n\")\n",
    "        print(f\"P(Middle): {product_age_df.loc['Middle'].sum()/len(aerofit):.2f}\")\n",
    "    print(\"\\n\")\n",
    "    print(f\"Conditional probability for different type of product given that customer age is {age} below:\")\n",
    "    print(\"\\n\")\n",
    "    print(f\"P(KP781|{age}): {p_781:.2f}\")\n",
    "    print(f\"P(KP481|{age}): {p_481:.2f}\")\n",
    "    print(f\"P(KP281|{age}): {p_281:.2f}\\n\")\n",
    "    \n",
    "p_prod_given_age(\"Young\",True)\n",
    "p_prod_given_age(\"Old\")\n",
    "p_prod_given_age(\"Middle\")"
   ]
  },
  {
   "cell_type": "markdown",
   "id": "ed38fcc2",
   "metadata": {},
   "source": [
    "###### Calculate the Marginal probability of different types of miles range  for three types of product ? \n",
    "###### Calculate the  probability of three types of product when the miles range  per week decided by customer  is konwn (conditional Probability)?"
   ]
  },
  {
   "cell_type": "code",
   "execution_count": 249,
   "id": "c66243af",
   "metadata": {},
   "outputs": [],
   "source": [
    "# lets add a column mile_range and devide income in three category high,medium and low\n",
    "Mile_range=[]\n",
    "for i in  aerofit[\"Miles\"]:\n",
    "    if i < 80:\n",
    "        Mile_range.append('Low')\n",
    "    elif i >=120:\n",
    "        Mile_range.append('High')\n",
    "    else:\n",
    "        Mile_range.append('Medium')\n",
    "    \n",
    "  \n",
    "aerofit[\"Mile_range\"]= Mile_range\n"
   ]
  },
  {
   "cell_type": "code",
   "execution_count": 250,
   "id": "d151d39a",
   "metadata": {},
   "outputs": [
    {
     "data": {
      "text/html": [
       "<div>\n",
       "<style scoped>\n",
       "    .dataframe tbody tr th:only-of-type {\n",
       "        vertical-align: middle;\n",
       "    }\n",
       "\n",
       "    .dataframe tbody tr th {\n",
       "        vertical-align: top;\n",
       "    }\n",
       "\n",
       "    .dataframe thead th {\n",
       "        text-align: right;\n",
       "    }\n",
       "</style>\n",
       "<table border=\"1\" class=\"dataframe\">\n",
       "  <thead>\n",
       "    <tr style=\"text-align: right;\">\n",
       "      <th>Product</th>\n",
       "      <th>KP281</th>\n",
       "      <th>KP481</th>\n",
       "      <th>KP781</th>\n",
       "    </tr>\n",
       "    <tr>\n",
       "      <th>Mile_range</th>\n",
       "      <th></th>\n",
       "      <th></th>\n",
       "      <th></th>\n",
       "    </tr>\n",
       "  </thead>\n",
       "  <tbody>\n",
       "    <tr>\n",
       "      <th>High</th>\n",
       "      <td>6</td>\n",
       "      <td>8</td>\n",
       "      <td>31</td>\n",
       "    </tr>\n",
       "    <tr>\n",
       "      <th>Low</th>\n",
       "      <td>38</td>\n",
       "      <td>21</td>\n",
       "      <td>0</td>\n",
       "    </tr>\n",
       "    <tr>\n",
       "      <th>Medium</th>\n",
       "      <td>36</td>\n",
       "      <td>31</td>\n",
       "      <td>9</td>\n",
       "    </tr>\n",
       "  </tbody>\n",
       "</table>\n",
       "</div>"
      ],
      "text/plain": [
       "Product     KP281  KP481  KP781\n",
       "Mile_range                     \n",
       "High            6      8     31\n",
       "Low            38     21      0\n",
       "Medium         36     31      9"
      ]
     },
     "execution_count": 250,
     "metadata": {},
     "output_type": "execute_result"
    }
   ],
   "source": [
    "product_mr_df = pd.crosstab(index=aerofit['Mile_range'], columns=[aerofit['Product']])\n",
    "product_mr_df"
   ]
  },
  {
   "cell_type": "code",
   "execution_count": 251,
   "id": "d2493d92",
   "metadata": {},
   "outputs": [
    {
     "name": "stdout",
     "output_type": "stream",
     "text": [
      "Marginal probability for different type of marital status are below:\n",
      "\n",
      "\n",
      "P(High): 0.25\n",
      "P(Medium): 0.42\n",
      "P(Low): 0.33\n",
      "\n",
      "\n",
      "\n",
      "Conditional probability for different type of product in given maritalstatus is High below:\n",
      "\n",
      "\n",
      "P(KP781|High): 0.69\n",
      "P(KP481|High): 0.18\n",
      "P(KP281|High): 0.13\n",
      "\n",
      "\n",
      "\n",
      "Conditional probability for different type of product in given maritalstatus is Medium below:\n",
      "\n",
      "\n",
      "P(KP781|Medium): 0.12\n",
      "P(KP481|Medium): 0.41\n",
      "P(KP281|Medium): 0.47\n",
      "\n",
      "\n",
      "\n",
      "Conditional probability for different type of product in given maritalstatus is Low below:\n",
      "\n",
      "\n",
      "P(KP781|Low): 0.00\n",
      "P(KP481|Low): 0.36\n",
      "P(KP281|Low): 0.64\n",
      "\n"
     ]
    }
   ],
   "source": [
    "def p_prod_given_mile_range(mr, print_marginal=False):\n",
    "    \n",
    "    p_781 = product_mr_df['KP781'][mr] / product_mr_df.loc[mr].sum()\n",
    "    p_481 = product_mr_df['KP481'][mr] / product_mr_df.loc[mr].sum()\n",
    "    p_281 = product_mr_df['KP281'][mr] / product_mr_df.loc[mr].sum()\n",
    "    \n",
    "    if print_marginal:\n",
    "        print(\"Marginal probability for different type of marital status are below:\")\n",
    "        print(\"\\n\")\n",
    "        print(f\"P(High): {product_mr_df.loc['High'].sum()/len(aerofit):.2f}\")\n",
    "        print(f\"P(Medium): {product_mr_df.loc['Medium'].sum()/len(aerofit):.2f}\")\n",
    "        print(f\"P(Low): {product_mr_df.loc['Low'].sum()/len(aerofit):.2f}\\n\")\n",
    "    print(\"\\n\")\n",
    "    print(f\"Conditional probability for different type of product in given maritalstatus is {mr} below:\")\n",
    "    print(\"\\n\")\n",
    "    print(f\"P(KP781|{mr}): {p_781:.2f}\")\n",
    "    print(f\"P(KP481|{mr}): {p_481:.2f}\")\n",
    "    print(f\"P(KP281|{mr}): {p_281:.2f}\\n\")\n",
    "    \n",
    "p_prod_given_mile_range('High', True)\n",
    "p_prod_given_mile_range('Medium')\n",
    "p_prod_given_mile_range('Low')"
   ]
  },
  {
   "cell_type": "markdown",
   "id": "ce6a7e70",
   "metadata": {},
   "source": [
    "###### Calculate the Marginal probability of different types of income range  for three types of product ? \n",
    "###### Calculate the  probability of three types of product when the ncome range  per week decided by customer  is konwn (conditional Probability)?"
   ]
  },
  {
   "cell_type": "code",
   "execution_count": 237,
   "id": "f6ceccf9",
   "metadata": {},
   "outputs": [],
   "source": [
    "# lets add a column income_range and devide income in three category high,medium and low\n",
    "income_range=[]\n",
    "for i in  aerofit[\"Income\"]:\n",
    "    if i < 40000:\n",
    "        income_range.append('Low')\n",
    "    elif i >70000:\n",
    "        income_range.append('High')\n",
    "    else:\n",
    "        income_range.append('Medium')\n",
    "    \n",
    "  \n",
    "aerofit[\"Income_range\"]= income_range\n"
   ]
  },
  {
   "cell_type": "code",
   "execution_count": 239,
   "id": "ed1cd317",
   "metadata": {},
   "outputs": [
    {
     "data": {
      "text/html": [
       "<div>\n",
       "<style scoped>\n",
       "    .dataframe tbody tr th:only-of-type {\n",
       "        vertical-align: middle;\n",
       "    }\n",
       "\n",
       "    .dataframe tbody tr th {\n",
       "        vertical-align: top;\n",
       "    }\n",
       "\n",
       "    .dataframe thead th {\n",
       "        text-align: right;\n",
       "    }\n",
       "</style>\n",
       "<table border=\"1\" class=\"dataframe\">\n",
       "  <thead>\n",
       "    <tr style=\"text-align: right;\">\n",
       "      <th>Product</th>\n",
       "      <th>KP281</th>\n",
       "      <th>KP481</th>\n",
       "      <th>KP781</th>\n",
       "    </tr>\n",
       "    <tr>\n",
       "      <th>Income_range</th>\n",
       "      <th></th>\n",
       "      <th></th>\n",
       "      <th></th>\n",
       "    </tr>\n",
       "  </thead>\n",
       "  <tbody>\n",
       "    <tr>\n",
       "      <th>High</th>\n",
       "      <td>0</td>\n",
       "      <td>0</td>\n",
       "      <td>23</td>\n",
       "    </tr>\n",
       "    <tr>\n",
       "      <th>Low</th>\n",
       "      <td>23</td>\n",
       "      <td>9</td>\n",
       "      <td>0</td>\n",
       "    </tr>\n",
       "    <tr>\n",
       "      <th>Medium</th>\n",
       "      <td>57</td>\n",
       "      <td>51</td>\n",
       "      <td>17</td>\n",
       "    </tr>\n",
       "  </tbody>\n",
       "</table>\n",
       "</div>"
      ],
      "text/plain": [
       "Product       KP281  KP481  KP781\n",
       "Income_range                     \n",
       "High              0      0     23\n",
       "Low              23      9      0\n",
       "Medium           57     51     17"
      ]
     },
     "execution_count": 239,
     "metadata": {},
     "output_type": "execute_result"
    }
   ],
   "source": [
    "product_ir_df = pd.crosstab(index=aerofit['Income_range'], columns=[aerofit['Product']])\n",
    "product_ir_df"
   ]
  },
  {
   "cell_type": "code",
   "execution_count": 240,
   "id": "8d68c95a",
   "metadata": {},
   "outputs": [
    {
     "name": "stdout",
     "output_type": "stream",
     "text": [
      "Marginal probability for different type of marital status are below:\n",
      "\n",
      "\n",
      "P(High): 0.13\n",
      "P(Medium): 0.69\n",
      "P(Low): 0.18\n",
      "\n",
      "\n",
      "\n",
      "Conditional probability for different type of product in given maritalstatus is High below:\n",
      "\n",
      "\n",
      "P(KP781|High): 1.00\n",
      "P(KP481|High): 0.00\n",
      "P(KP281|High): 0.00\n",
      "\n",
      "\n",
      "\n",
      "Conditional probability for different type of product in given maritalstatus is Medium below:\n",
      "\n",
      "\n",
      "P(KP781|Medium): 0.14\n",
      "P(KP481|Medium): 0.41\n",
      "P(KP281|Medium): 0.46\n",
      "\n",
      "\n",
      "\n",
      "Conditional probability for different type of product in given maritalstatus is Low below:\n",
      "\n",
      "\n",
      "P(KP781|Low): 0.00\n",
      "P(KP481|Low): 0.28\n",
      "P(KP281|Low): 0.72\n",
      "\n"
     ]
    }
   ],
   "source": [
    "def p_prod_given_income_range(ir, print_marginal=False):\n",
    "    \n",
    "    p_781 = product_ir_df['KP781'][ir] / product_ir_df.loc[ir].sum()\n",
    "    p_481 = product_ir_df['KP481'][ir] / product_ir_df.loc[ir].sum()\n",
    "    p_281 = product_ir_df['KP281'][ir] / product_ir_df.loc[ir].sum()\n",
    "    \n",
    "    if print_marginal:\n",
    "        print(\"Marginal probability for different type of marital status are below:\")\n",
    "        print(\"\\n\")\n",
    "        print(f\"P(High): {product_ir_df.loc['High'].sum()/len(aerofit):.2f}\")\n",
    "        print(f\"P(Medium): {product_ir_df.loc['Medium'].sum()/len(aerofit):.2f}\")\n",
    "        print(f\"P(Low): {product_ir_df.loc['Low'].sum()/len(aerofit):.2f}\\n\")\n",
    "    print(\"\\n\")\n",
    "    print(f\"Conditional probability for different type of product in given maritalstatus is {ir} below:\")\n",
    "    print(\"\\n\")\n",
    "    print(f\"P(KP781|{ir}): {p_781:.2f}\")\n",
    "    print(f\"P(KP481|{ir}): {p_481:.2f}\")\n",
    "    print(f\"P(KP281|{ir}): {p_281:.2f}\\n\")\n",
    "    \n",
    "p_prod_given_income_range('High', True)\n",
    "p_prod_given_income_range('Medium')\n",
    "p_prod_given_income_range('Low')"
   ]
  },
  {
   "cell_type": "markdown",
   "id": "278d869d",
   "metadata": {},
   "source": [
    "# Customer Profiling "
   ]
  },
  {
   "cell_type": "markdown",
   "id": "44d29775",
   "metadata": {},
   "source": [
    "###### Based on Gender:\n",
    "* Probability of customer being male is 0.58 and Female are 0.42 respectively.\n",
    "* Given that customer is Male and buying KP781,KP481,KP281 are 0.32, 0.30,0.38 respectively.\n",
    "* Given that customer is Female and buying KP781,KP481,KP281 are 0.09, 0.38,0.53 respectively.\n",
    "###### Based on Marital Status:\n",
    "* Probability of customer being partnered is 0.41 and single are 0.59 respectively.\n",
    "* Given that customer is partnered and buying KP781,KP481,KP281 are 0.23, 0.33,0.44 respectively.\n",
    "* Given that customer is Female and buying KP781,KP481,KP281 are 0.21, 0.34,0.45 respectively.\n",
    "###### Based on Usages:\n",
    "* probability for different type of usages set by customers are below:\n",
    "    P(2): 0.18 , P(3): 0.38 ,P(4): 0.29 ,P(5): 0.09 ,P(6): 0.04 ,P(7): 0.01\n",
    "* customer who decided the uages 2 times a week,probability of buying KP781,KP481,KP281 are 0.00,0.42,0.58 respectively.\n",
    "* customer who decided the uages 3 times a week,probability of buying KP781,KP481,KP281 are 0.01,0.45,0.54 respectively.\n",
    "* customer who decided the uages 4 times a week,probability of buying KP781,KP481,KP281 are 0.35,0.23,0.42 respectively.\n",
    "* customer who decided the uages 5 times a week,probability of buying KP781,KP481,KP281 are 0.71,0.18,0.12 respectively\n",
    "* customer who decided the uages 6 times a week,probability of buying KP781,KP481,KP281 are 1.00,0.00,0.00 respectively\n",
    "* customer who decided the uages 7 times a week,probability of buying KP781,KP481,KP281 are 1.00,0.00,0.00 respectively\n",
    "###### Based on Fitness:\n",
    "* probability for different type of fitness selfratted by customers are below:\n",
    "    P(1): 0.01 , P(2): 0.14 ,P(3): 0.54 ,P(4): 0.13 ,P(5): 0.17\n",
    "* customer rated 1 themselves in fitness ,probability of buying KP781,KP481,KP281 are 0.00,0.50,0.50 respectively.\n",
    "* customer rated 2 themselves in fitness ,probability of buying KP781,KP481,KP281 are 0.00,0.46,0.54 respectively.\n",
    "* customer rated 3 themselves in fitness ,probability of buying KP781,KP481,KP281 are 0.04,0.40,0.56 respectively.\n",
    "* customer rated 4 themselves in fitness ,probability of buying KP781,KP481,KP281 are 0.29,0.33,0.38 respectively.\n",
    "* customer rated 5 themselves in fitness ,probability of buying KP781,KP481,KP281 are 0.94,0.00,0.06 respectively.\n",
    "###### Based on Education:\n",
    "* probability customers having different years of education are below:\n",
    "    P(12): 0.02 , P(13): 0.03 , P(14): 0.3 , P(15): 0.03 , P(16): 0.47 , P(18): 0.13 , P(20): 0.01 , P(21): 0.02\n",
    "* customer who has 12 years of education ,probability of buying KP781,KP481,KP281 are 0.00,0.33,0.67 respectively.\n",
    "* customer who has 13 years of education ,probability of buying KP781,KP481,KP281 are 0.00,0.40,0.60 respectively.\n",
    "* customer who has 14 years of education ,probability of buying KP781,KP481,KP281 are 0.04,0.42,0.55 respectively.\n",
    "* customer who has 15 years of education ,probability of buying KP781,KP481,KP281 are 0.00,0.20,0.80 respectively.\n",
    "* customer who has 16 years of education ,probability of buying KP781,KP481,KP281 are 0.18,0.36,0.46 respectively.\n",
    "* customer who has 18 years of education ,probability of buying KP781,KP481,KP281 are 0.83,0.09,0.09 respectively.\n",
    "* customer who has 20 years of education ,probability of buying KP781,KP481,KP281 are 1.00,0.00,0.06 respectively.\n",
    "* customer who has 21 years of education ,probability of buying KP781,KP481,KP281 are 1.00,0.00,0.06 respectively.\n",
    "###### Based on Age Range:\n",
    "* probability customers having different age range are below:\n",
    "    P(Young): 0.80 ,P(Old): 0.01 ,P(Middle): 0.19\n",
    "* customer who is young ,probability of buying KP781,KP481,KP281 are 0.23,0.33,0.44 respectively.\n",
    "* Customer who is old ,probability of buying KP781,KP481,KP281 are 0.00,0.00,1.00 respectively.\n",
    "* Customer who is middle age ,probability of buying KP781,KP481,KP281 are 0.20,0.34,0.46 respectively.\n",
    "###### Based on Mile Range:\n",
    "* probability customers having different mile range are below:\n",
    "    P(High): 0.25 ,P(Medium): 0.42 , P(Low): 0.33\n",
    "* customer who set high miles per week  ,probability of buying KP781,KP481,KP281 are 0.69,0.18,0.13 respectively.\n",
    "* Customer who set medium miles per week ,probability of buying KP781,KP481,KP281 are 0.12,0.41,0.47 respectively.\n",
    "* Customer who set low miles per week ,probability of buying KP781,KP481,KP281 are 0.00,0.36,0.64 respectively.\n",
    "###### Based on income Range:\n",
    "* probability customers having different income range are below:\n",
    "     P(High): 0.13 ,P(Medium): 0.69 , P(Low): 0.18\n",
    "* customer who has high income ,probability of buying KP781,KP481,KP281 are 1.00,0.00,0.00 respectively.\n",
    "* Customer who has medium ,probability of buying KP781,KP481,KP281 are 0.14,0.41,0.46 respectively.\n",
    "* Customer who has low  ,probability of buying KP781,KP481,KP281 are 0.00,0.28,0.72 respectively."
   ]
  },
  {
   "cell_type": "markdown",
   "id": "4a528ac0",
   "metadata": {},
   "source": [
    "# Bussiness Insights"
   ]
  },
  {
   "cell_type": "markdown",
   "id": "2d3faab7",
   "metadata": {},
   "source": [
    "# Product:\n",
    "- There are three distinct products in the dataframe i.e KP281,KP481,KP781\n",
    "- The KP281 is an entry-level treadmill that sells for 1,500 dollar.\n",
    "- The KP481 is for mid-level runners that sell for 1,750 dollar.\n",
    "- The KP781 treadmill has advanced features that sell for 2,500 dollar.\n",
    "- product  KP281 is the hihest purchased(44% approx) product and KP781(22% approx) is th least purchased.\n",
    "- Product KP481 has a considerable amount of purchase i.e 33% approx.\n",
    "##### Age:\n",
    "- Minimum age of the person is 18 & Maximum 50.\n",
    "- The age range of customer purchased KP281 and KP481 is between 23 to 33 and both have the same median value\n",
    "- Customer purchased KP781 has the age range 25-30.\n",
    "##### Gender:\n",
    "- Out of 180 data, 104 are Male and rest 76 are the female.(as only two unique gender is given male and female)\n",
    "- same number of male and female purchased KP281\n",
    "- There is a minor difference between male and female customers of KP481.\n",
    "- There is a huge difference between the male and female customers of KP781 and more male customers.\n",
    "##### Education:\n",
    "- Most of the people are having 16 years of education.\n",
    "- customers having 14 to 16 years of education have purchased KP281 and  KP481.\n",
    "- customers having more than 16 years of education have purchased KP781 and  KP481.\n",
    "##### MaritalStatus:\n",
    "- Out of 180 data, 107 are Partnered and rest 73 are the single.(as only two unique gender is given Partnered and Single)\n",
    "- In all three category of product, partnered customers is more than the single.\n",
    "##### Usage:\n",
    "- 75% of people prefers to use tredmil 4 or less than 4 times a week\n",
    "- some customes who has decided to run 3 to 4 times have purchased KP281 and KP481.\n",
    "- customers who have decided to walk/run 4 or more than 4 times per week has purchased KP781.\n",
    "##### Fitness\n",
    "- 75% of people selfrated as 4 or less than 4 in fitness\n",
    "- customers who have selfrated 4 or more has purchased KP781.\n",
    "##### Income(in$):\n",
    "- customer having income between 40,000 to 55,000 (in dollar) have purchased KP281.\n",
    "- some customers haveing income between 45000 to 55000 (in dollar) have purchased KP481\n",
    "##### Miles:\n",
    "- customers who have decided to run 70 miles to 90 mile per week has purchased KP281.\n",
    "- some customers who have decided to run 60 miles to 120 mile per week has purchased KP481.\n",
    "- customers who have decide to run more than 120 mile per week has purchased KP781."
   ]
  },
  {
   "cell_type": "markdown",
   "id": "539300d3",
   "metadata": {},
   "source": [
    "# Recomendation\n"
   ]
  },
  {
   "cell_type": "markdown",
   "id": "bc5cd06c",
   "metadata": {},
   "source": [
    "* Aerofit has less number of women customer than female, may be aerofit can coduct some awareness program on women's day to increase Women customer or provide some discount\n",
    "* It is shown that existing women customer has shown interest in KP281 and KP481. However KP781 has less women customers,Aerofit can collect the review of the particular product from existing women customers and focus on how it can be more suitable for women.\n",
    "* Aerofit can have separate scheme of service  on product for partnered and single, so that will increase the interest of the customers.\n",
    "* customer having high fitness prefers KP781, so people having less than fitness may be unaware of the benifit of the product KP781. So Aerofit can share their review and features to as much as customers to increase purchase\n",
    "* People has low income has purchased Kp281 may be because of its cost. If Aerofit can review its cost of KP481 and KP781 and set it to little lesser or any discount on festive occasion or holiday time then customer will be more interested in nuying.\n",
    "* It is seen that most of the customer at the age of 23 -33. Aerofit can make them aware about the features and specification about KP481 and KP781 so that they will shift from KP281.\n",
    "* Aerofit can provide some exchage discount as a part of upgradation of treadmil\n",
    "* Aerofit can conduct some contest with the use of the product for promotion purpose.\n",
    "\n"
   ]
  },
  {
   "cell_type": "code",
   "execution_count": null,
   "id": "35f34e7c",
   "metadata": {},
   "outputs": [],
   "source": []
  }
 ],
 "metadata": {
  "kernelspec": {
   "display_name": "Python 3 (ipykernel)",
   "language": "python",
   "name": "python3"
  },
  "language_info": {
   "codemirror_mode": {
    "name": "ipython",
    "version": 3
   },
   "file_extension": ".py",
   "mimetype": "text/x-python",
   "name": "python",
   "nbconvert_exporter": "python",
   "pygments_lexer": "ipython3",
   "version": "3.10.9"
  }
 },
 "nbformat": 4,
 "nbformat_minor": 5
}
